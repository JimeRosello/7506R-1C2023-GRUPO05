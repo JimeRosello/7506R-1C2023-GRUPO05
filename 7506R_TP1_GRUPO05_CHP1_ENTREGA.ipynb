{
  "cells": [
    {
      "cell_type": "markdown",
      "metadata": {
        "id": "vgay281v2zbx"
      },
      "source": [
        "# Organización de Datos \n",
        "## Trabajo Práctico número 1 \n",
        "\n",
        "### Alumnos \n",
        "\n",
        "David Leonardo Batallan \n",
        "\n",
        "Lucia Lourengo Caridade \n",
        "\n",
        "Jimena Roselló \n",
        "\n",
        "<br>\n",
        "\n",
        "---\n",
        "\n",
        "<br>\n",
        "\n",
        "## Exploración Inicial \n",
        "\n",
        "A lo largo de este trabajo utilizaremos el dataset provisto por la cátedra, el archivo hotel_train.csv. El objetivo del trabajo será lograr predecir si una reserva será cancelada. \n",
        "Lo importamos mediante la librería pandas para comenzar a trabajar, y para comenzar a analizar los datos provistos, estudiamos algunas filas del dataset. \n",
        "\n"
      ]
    },
    {
      "cell_type": "code",
      "execution_count": null,
      "metadata": {
        "colab": {
          "base_uri": "https://localhost:8080/",
          "height": 530
        },
        "id": "LriKqaLNlYok",
        "outputId": "ce474c96-fb0c-4935-d13c-2d01fa774ed6"
      },
      "outputs": [
        {
          "output_type": "execute_result",
          "data": {
            "text/plain": [
              "          hotel  lead_time  arrival_date_year arrival_date_month  \\\n",
              "0    City Hotel         49               2016          September   \n",
              "1  Resort Hotel          4               2015            October   \n",
              "2    City Hotel         25               2016            October   \n",
              "3    City Hotel         26               2016           December   \n",
              "4    City Hotel        104               2017              March   \n",
              "\n",
              "   arrival_date_week_number  arrival_date_day_of_month  \\\n",
              "0                        37                          5   \n",
              "1                        44                         31   \n",
              "2                        42                         13   \n",
              "3                        51                         12   \n",
              "4                        12                         19   \n",
              "\n",
              "   stays_in_weekend_nights  stays_in_week_nights  adults  children  babies  \\\n",
              "0                        1                     2       1       0.0       0   \n",
              "1                        0                     1       2       0.0       0   \n",
              "2                        0                     1       2       2.0       0   \n",
              "3                        2                     5       2       0.0       0   \n",
              "4                        2                     5       2       0.0       0   \n",
              "\n",
              "  meal country market_segment distribution_channel  is_repeated_guest  \\\n",
              "0   BB     USA      Online TA                TA/TO                  0   \n",
              "1   BB     PRT         Groups               Direct                  0   \n",
              "2   BB     CHE      Online TA                TA/TO                  0   \n",
              "3   BB     PRT         Groups                TA/TO                  0   \n",
              "4   BB     FRA  Offline TA/TO                TA/TO                  0   \n",
              "\n",
              "   previous_cancellations  previous_bookings_not_canceled reserved_room_type  \\\n",
              "0                       0                               0                  D   \n",
              "1                       0                               0                  A   \n",
              "2                       0                               0                  F   \n",
              "3                       0                               0                  A   \n",
              "4                       0                               0                  A   \n",
              "\n",
              "  assigned_room_type  booking_changes deposit_type  agent  company  \\\n",
              "0                  D                0   No Deposit    9.0      NaN   \n",
              "1                  A                0   No Deposit    NaN      NaN   \n",
              "2                  F                0   No Deposit    9.0      NaN   \n",
              "3                  A                0   Non Refund  154.0      NaN   \n",
              "4                  A                0   No Deposit   20.0      NaN   \n",
              "\n",
              "   days_in_waiting_list    customer_type    adr  required_car_parking_spaces  \\\n",
              "0                     0        Transient  115.5                            0   \n",
              "1                     0        Transient   42.0                            1   \n",
              "2                     0        Transient  229.0                            0   \n",
              "3                     0        Transient   75.0                            0   \n",
              "4                     0  Transient-Party   75.0                            0   \n",
              "\n",
              "   total_of_special_requests reservation_status_date  \\\n",
              "0                          1              2016-08-25   \n",
              "1                          0              2015-11-01   \n",
              "2                          2              2016-10-14   \n",
              "3                          0              2016-11-29   \n",
              "4                          1              2017-03-26   \n",
              "\n",
              "                                     id  is_canceled  \n",
              "0  7aa4cc6b-b92c-4061-b21d-4f9e0cac4689            1  \n",
              "1  b1428f80-c56c-4ae4-91a9-6962edae08b1            0  \n",
              "2  2226c018-ea20-4c4e-8f71-ea66aee70d7c            0  \n",
              "3  314f56dc-2e4d-4298-9bdd-27bb008bffff            1  \n",
              "4  28c75445-c603-413a-babf-ad377018b592            0  "
            ],
            "text/html": [
              "\n",
              "  <div id=\"df-ab159ddd-0a44-4007-b508-085d3d06abef\">\n",
              "    <div class=\"colab-df-container\">\n",
              "      <div>\n",
              "<style scoped>\n",
              "    .dataframe tbody tr th:only-of-type {\n",
              "        vertical-align: middle;\n",
              "    }\n",
              "\n",
              "    .dataframe tbody tr th {\n",
              "        vertical-align: top;\n",
              "    }\n",
              "\n",
              "    .dataframe thead th {\n",
              "        text-align: right;\n",
              "    }\n",
              "</style>\n",
              "<table border=\"1\" class=\"dataframe\">\n",
              "  <thead>\n",
              "    <tr style=\"text-align: right;\">\n",
              "      <th></th>\n",
              "      <th>hotel</th>\n",
              "      <th>lead_time</th>\n",
              "      <th>arrival_date_year</th>\n",
              "      <th>arrival_date_month</th>\n",
              "      <th>arrival_date_week_number</th>\n",
              "      <th>arrival_date_day_of_month</th>\n",
              "      <th>stays_in_weekend_nights</th>\n",
              "      <th>stays_in_week_nights</th>\n",
              "      <th>adults</th>\n",
              "      <th>children</th>\n",
              "      <th>babies</th>\n",
              "      <th>meal</th>\n",
              "      <th>country</th>\n",
              "      <th>market_segment</th>\n",
              "      <th>distribution_channel</th>\n",
              "      <th>is_repeated_guest</th>\n",
              "      <th>previous_cancellations</th>\n",
              "      <th>previous_bookings_not_canceled</th>\n",
              "      <th>reserved_room_type</th>\n",
              "      <th>assigned_room_type</th>\n",
              "      <th>booking_changes</th>\n",
              "      <th>deposit_type</th>\n",
              "      <th>agent</th>\n",
              "      <th>company</th>\n",
              "      <th>days_in_waiting_list</th>\n",
              "      <th>customer_type</th>\n",
              "      <th>adr</th>\n",
              "      <th>required_car_parking_spaces</th>\n",
              "      <th>total_of_special_requests</th>\n",
              "      <th>reservation_status_date</th>\n",
              "      <th>id</th>\n",
              "      <th>is_canceled</th>\n",
              "    </tr>\n",
              "  </thead>\n",
              "  <tbody>\n",
              "    <tr>\n",
              "      <th>0</th>\n",
              "      <td>City Hotel</td>\n",
              "      <td>49</td>\n",
              "      <td>2016</td>\n",
              "      <td>September</td>\n",
              "      <td>37</td>\n",
              "      <td>5</td>\n",
              "      <td>1</td>\n",
              "      <td>2</td>\n",
              "      <td>1</td>\n",
              "      <td>0.0</td>\n",
              "      <td>0</td>\n",
              "      <td>BB</td>\n",
              "      <td>USA</td>\n",
              "      <td>Online TA</td>\n",
              "      <td>TA/TO</td>\n",
              "      <td>0</td>\n",
              "      <td>0</td>\n",
              "      <td>0</td>\n",
              "      <td>D</td>\n",
              "      <td>D</td>\n",
              "      <td>0</td>\n",
              "      <td>No Deposit</td>\n",
              "      <td>9.0</td>\n",
              "      <td>NaN</td>\n",
              "      <td>0</td>\n",
              "      <td>Transient</td>\n",
              "      <td>115.5</td>\n",
              "      <td>0</td>\n",
              "      <td>1</td>\n",
              "      <td>2016-08-25</td>\n",
              "      <td>7aa4cc6b-b92c-4061-b21d-4f9e0cac4689</td>\n",
              "      <td>1</td>\n",
              "    </tr>\n",
              "    <tr>\n",
              "      <th>1</th>\n",
              "      <td>Resort Hotel</td>\n",
              "      <td>4</td>\n",
              "      <td>2015</td>\n",
              "      <td>October</td>\n",
              "      <td>44</td>\n",
              "      <td>31</td>\n",
              "      <td>0</td>\n",
              "      <td>1</td>\n",
              "      <td>2</td>\n",
              "      <td>0.0</td>\n",
              "      <td>0</td>\n",
              "      <td>BB</td>\n",
              "      <td>PRT</td>\n",
              "      <td>Groups</td>\n",
              "      <td>Direct</td>\n",
              "      <td>0</td>\n",
              "      <td>0</td>\n",
              "      <td>0</td>\n",
              "      <td>A</td>\n",
              "      <td>A</td>\n",
              "      <td>0</td>\n",
              "      <td>No Deposit</td>\n",
              "      <td>NaN</td>\n",
              "      <td>NaN</td>\n",
              "      <td>0</td>\n",
              "      <td>Transient</td>\n",
              "      <td>42.0</td>\n",
              "      <td>1</td>\n",
              "      <td>0</td>\n",
              "      <td>2015-11-01</td>\n",
              "      <td>b1428f80-c56c-4ae4-91a9-6962edae08b1</td>\n",
              "      <td>0</td>\n",
              "    </tr>\n",
              "    <tr>\n",
              "      <th>2</th>\n",
              "      <td>City Hotel</td>\n",
              "      <td>25</td>\n",
              "      <td>2016</td>\n",
              "      <td>October</td>\n",
              "      <td>42</td>\n",
              "      <td>13</td>\n",
              "      <td>0</td>\n",
              "      <td>1</td>\n",
              "      <td>2</td>\n",
              "      <td>2.0</td>\n",
              "      <td>0</td>\n",
              "      <td>BB</td>\n",
              "      <td>CHE</td>\n",
              "      <td>Online TA</td>\n",
              "      <td>TA/TO</td>\n",
              "      <td>0</td>\n",
              "      <td>0</td>\n",
              "      <td>0</td>\n",
              "      <td>F</td>\n",
              "      <td>F</td>\n",
              "      <td>0</td>\n",
              "      <td>No Deposit</td>\n",
              "      <td>9.0</td>\n",
              "      <td>NaN</td>\n",
              "      <td>0</td>\n",
              "      <td>Transient</td>\n",
              "      <td>229.0</td>\n",
              "      <td>0</td>\n",
              "      <td>2</td>\n",
              "      <td>2016-10-14</td>\n",
              "      <td>2226c018-ea20-4c4e-8f71-ea66aee70d7c</td>\n",
              "      <td>0</td>\n",
              "    </tr>\n",
              "    <tr>\n",
              "      <th>3</th>\n",
              "      <td>City Hotel</td>\n",
              "      <td>26</td>\n",
              "      <td>2016</td>\n",
              "      <td>December</td>\n",
              "      <td>51</td>\n",
              "      <td>12</td>\n",
              "      <td>2</td>\n",
              "      <td>5</td>\n",
              "      <td>2</td>\n",
              "      <td>0.0</td>\n",
              "      <td>0</td>\n",
              "      <td>BB</td>\n",
              "      <td>PRT</td>\n",
              "      <td>Groups</td>\n",
              "      <td>TA/TO</td>\n",
              "      <td>0</td>\n",
              "      <td>0</td>\n",
              "      <td>0</td>\n",
              "      <td>A</td>\n",
              "      <td>A</td>\n",
              "      <td>0</td>\n",
              "      <td>Non Refund</td>\n",
              "      <td>154.0</td>\n",
              "      <td>NaN</td>\n",
              "      <td>0</td>\n",
              "      <td>Transient</td>\n",
              "      <td>75.0</td>\n",
              "      <td>0</td>\n",
              "      <td>0</td>\n",
              "      <td>2016-11-29</td>\n",
              "      <td>314f56dc-2e4d-4298-9bdd-27bb008bffff</td>\n",
              "      <td>1</td>\n",
              "    </tr>\n",
              "    <tr>\n",
              "      <th>4</th>\n",
              "      <td>City Hotel</td>\n",
              "      <td>104</td>\n",
              "      <td>2017</td>\n",
              "      <td>March</td>\n",
              "      <td>12</td>\n",
              "      <td>19</td>\n",
              "      <td>2</td>\n",
              "      <td>5</td>\n",
              "      <td>2</td>\n",
              "      <td>0.0</td>\n",
              "      <td>0</td>\n",
              "      <td>BB</td>\n",
              "      <td>FRA</td>\n",
              "      <td>Offline TA/TO</td>\n",
              "      <td>TA/TO</td>\n",
              "      <td>0</td>\n",
              "      <td>0</td>\n",
              "      <td>0</td>\n",
              "      <td>A</td>\n",
              "      <td>A</td>\n",
              "      <td>0</td>\n",
              "      <td>No Deposit</td>\n",
              "      <td>20.0</td>\n",
              "      <td>NaN</td>\n",
              "      <td>0</td>\n",
              "      <td>Transient-Party</td>\n",
              "      <td>75.0</td>\n",
              "      <td>0</td>\n",
              "      <td>1</td>\n",
              "      <td>2017-03-26</td>\n",
              "      <td>28c75445-c603-413a-babf-ad377018b592</td>\n",
              "      <td>0</td>\n",
              "    </tr>\n",
              "  </tbody>\n",
              "</table>\n",
              "</div>\n",
              "      <button class=\"colab-df-convert\" onclick=\"convertToInteractive('df-ab159ddd-0a44-4007-b508-085d3d06abef')\"\n",
              "              title=\"Convert this dataframe to an interactive table.\"\n",
              "              style=\"display:none;\">\n",
              "        \n",
              "  <svg xmlns=\"http://www.w3.org/2000/svg\" height=\"24px\"viewBox=\"0 0 24 24\"\n",
              "       width=\"24px\">\n",
              "    <path d=\"M0 0h24v24H0V0z\" fill=\"none\"/>\n",
              "    <path d=\"M18.56 5.44l.94 2.06.94-2.06 2.06-.94-2.06-.94-.94-2.06-.94 2.06-2.06.94zm-11 1L8.5 8.5l.94-2.06 2.06-.94-2.06-.94L8.5 2.5l-.94 2.06-2.06.94zm10 10l.94 2.06.94-2.06 2.06-.94-2.06-.94-.94-2.06-.94 2.06-2.06.94z\"/><path d=\"M17.41 7.96l-1.37-1.37c-.4-.4-.92-.59-1.43-.59-.52 0-1.04.2-1.43.59L10.3 9.45l-7.72 7.72c-.78.78-.78 2.05 0 2.83L4 21.41c.39.39.9.59 1.41.59.51 0 1.02-.2 1.41-.59l7.78-7.78 2.81-2.81c.8-.78.8-2.07 0-2.86zM5.41 20L4 18.59l7.72-7.72 1.47 1.35L5.41 20z\"/>\n",
              "  </svg>\n",
              "      </button>\n",
              "      \n",
              "  <style>\n",
              "    .colab-df-container {\n",
              "      display:flex;\n",
              "      flex-wrap:wrap;\n",
              "      gap: 12px;\n",
              "    }\n",
              "\n",
              "    .colab-df-convert {\n",
              "      background-color: #E8F0FE;\n",
              "      border: none;\n",
              "      border-radius: 50%;\n",
              "      cursor: pointer;\n",
              "      display: none;\n",
              "      fill: #1967D2;\n",
              "      height: 32px;\n",
              "      padding: 0 0 0 0;\n",
              "      width: 32px;\n",
              "    }\n",
              "\n",
              "    .colab-df-convert:hover {\n",
              "      background-color: #E2EBFA;\n",
              "      box-shadow: 0px 1px 2px rgba(60, 64, 67, 0.3), 0px 1px 3px 1px rgba(60, 64, 67, 0.15);\n",
              "      fill: #174EA6;\n",
              "    }\n",
              "\n",
              "    [theme=dark] .colab-df-convert {\n",
              "      background-color: #3B4455;\n",
              "      fill: #D2E3FC;\n",
              "    }\n",
              "\n",
              "    [theme=dark] .colab-df-convert:hover {\n",
              "      background-color: #434B5C;\n",
              "      box-shadow: 0px 1px 3px 1px rgba(0, 0, 0, 0.15);\n",
              "      filter: drop-shadow(0px 1px 2px rgba(0, 0, 0, 0.3));\n",
              "      fill: #FFFFFF;\n",
              "    }\n",
              "  </style>\n",
              "\n",
              "      <script>\n",
              "        const buttonEl =\n",
              "          document.querySelector('#df-ab159ddd-0a44-4007-b508-085d3d06abef button.colab-df-convert');\n",
              "        buttonEl.style.display =\n",
              "          google.colab.kernel.accessAllowed ? 'block' : 'none';\n",
              "\n",
              "        async function convertToInteractive(key) {\n",
              "          const element = document.querySelector('#df-ab159ddd-0a44-4007-b508-085d3d06abef');\n",
              "          const dataTable =\n",
              "            await google.colab.kernel.invokeFunction('convertToInteractive',\n",
              "                                                     [key], {});\n",
              "          if (!dataTable) return;\n",
              "\n",
              "          const docLinkHtml = 'Like what you see? Visit the ' +\n",
              "            '<a target=\"_blank\" href=https://colab.research.google.com/notebooks/data_table.ipynb>data table notebook</a>'\n",
              "            + ' to learn more about interactive tables.';\n",
              "          element.innerHTML = '';\n",
              "          dataTable['output_type'] = 'display_data';\n",
              "          await google.colab.output.renderOutput(dataTable, element);\n",
              "          const docLink = document.createElement('div');\n",
              "          docLink.innerHTML = docLinkHtml;\n",
              "          element.appendChild(docLink);\n",
              "        }\n",
              "      </script>\n",
              "    </div>\n",
              "  </div>\n",
              "  "
            ]
          },
          "metadata": {},
          "execution_count": 294
        }
      ],
      "source": [
        "!pip install -q geopandas\n",
        "!pip install -q geoplot\n",
        "\n",
        "import pandas as pd\n",
        "import statistics as st\n",
        "import seaborn as sns\n",
        "import numpy as np \n",
        "import matplotlib.pyplot as plt\n",
        "from sklearn.linear_model import LinearRegression\n",
        "from sklearn import metrics\n",
        "import geopandas\n",
        "import geoplot\n",
        "\n",
        "import warnings\n",
        "warnings.simplefilter(action='ignore', category=FutureWarning)\n",
        "\n",
        "pd.set_option('display.max_columns', None) \n",
        "\n",
        "df = pd.read_csv(\"https://drive.google.com/uc?export=download&id=16Ru6_7JIXUpEBKA7j5oFkJqRUXjrYI2Z\")\n",
        "df.head(5)"
      ]
    },
    {
      "cell_type": "code",
      "execution_count": null,
      "metadata": {
        "colab": {
          "base_uri": "https://localhost:8080/"
        },
        "id": "8lgRUn-T3e-N",
        "outputId": "1a920f07-9125-471b-b8db-a5f1c7b234c2"
      },
      "outputs": [
        {
          "output_type": "execute_result",
          "data": {
            "text/plain": [
              "Index(['hotel', 'lead_time', 'arrival_date_year', 'arrival_date_month',\n",
              "       'arrival_date_week_number', 'arrival_date_day_of_month',\n",
              "       'stays_in_weekend_nights', 'stays_in_week_nights', 'adults', 'children',\n",
              "       'babies', 'meal', 'country', 'market_segment', 'distribution_channel',\n",
              "       'is_repeated_guest', 'previous_cancellations',\n",
              "       'previous_bookings_not_canceled', 'reserved_room_type',\n",
              "       'assigned_room_type', 'booking_changes', 'deposit_type', 'agent',\n",
              "       'company', 'days_in_waiting_list', 'customer_type', 'adr',\n",
              "       'required_car_parking_spaces', 'total_of_special_requests',\n",
              "       'reservation_status_date', 'id', 'is_canceled'],\n",
              "      dtype='object')"
            ]
          },
          "metadata": {},
          "execution_count": 295
        }
      ],
      "source": [
        "df.columns"
      ]
    },
    {
      "cell_type": "markdown",
      "metadata": {
        "id": "wh8i49d9zlGb"
      },
      "source": [
        "El dataset corresponde a un listado de las reservas de 2 hoteles: \"City Hotel\" y \"Resort Hotel\". "
      ]
    },
    {
      "cell_type": "code",
      "execution_count": null,
      "metadata": {
        "colab": {
          "base_uri": "https://localhost:8080/"
        },
        "id": "KyPBMRU84Dsb",
        "outputId": "6dfbc067-2cd1-4923-8b3e-b6caf0f4d2e9"
      },
      "outputs": [
        {
          "output_type": "stream",
          "name": "stdout",
          "text": [
            "['City Hotel' 'Resort Hotel']\n"
          ]
        }
      ],
      "source": [
        "print(df['hotel'].unique())"
      ]
    },
    {
      "cell_type": "markdown",
      "metadata": {
        "id": "8uHosKH24Cxk"
      },
      "source": [
        "\n",
        "\n",
        "Cada una de las filas tiene los siguientes datos: \n",
        "\n",
        "*   **Adr (average daily rate)**. El costo promedio de una habitación del hotel. Es una variable cuantitativa continua. \n",
        "\n",
        "*   **Adults**. La cantidad de adultos que utilizan la reserva. Es una variable cuantitativa discreta. \n",
        "\n",
        "*   **Agent**. ID de la agencia de viajes que hizo la reserva. Es una variable cualitativa nominal\n",
        "\n",
        "*   **Arrival date**. Incluye el año, mes, número de semana y día del mes en que el cliente llega al hotel. Todas ellas son variables cuantitativas discretas.\n",
        "\n",
        "*   **Assigned room type**. Tipo de habitación asignada. Es una variable cualitativa nominal. \n",
        "\n",
        "*   **Babies**. La cantidad de bebés que utilizan la reserva. Es una variable cuantitativa discreta. \n",
        "\n",
        "*   **Booking changes**. Cantidad de cambios en la reserva. Es una variable cuantitativa discreta.\n",
        "\n",
        "*   **Children**. La cantidad de niños que utilizan la reserva. Es una variable cuantitativa discreta. \n",
        "\n",
        "*   **Company**. ID de la compañía/entidad responsable de pagar la reserva. Es una variable cualitativa nominal. Tipo de variable????\n",
        "\n",
        "*   **Country**. El país. Es una variable cualitativa nominal. \n",
        "\n",
        "*   **Customer type**. Tipo de cliente. Es una variable cualitativa nominal. \n",
        "\n",
        "*   **Days in waiting list**. Cantidad de días que el cliente permanece en lista de espera. Es una variable cuantitativa discreta. \n",
        "\n",
        " \n",
        "*   **Deposit type**. Tipo de depósito para la seña de la reserva. Es una variable cualitativa nominal. \n",
        "\n",
        "*   **Distribution channel**. Es una variable de texto que representa el Canal de distribución de reservas. Es una variable cualitativa nominal. \n",
        "\n",
        "*   **Hotel**. El nombre del hotel. Se trata de una variable cualitativa nominal.  \n",
        "\n",
        "*   **Id**. El ID de la reserva. Es una variable cualitativa nominal. \n",
        "\n",
        "\n",
        "*   **Is Canceled**. Indica si la reserva esta cancelada o no. Es una variable cualitativa nominal.\n",
        "\n",
        "*   **Is repetead guest**. Indica si el cliente ya había realizado reservas anteriormente en el hotel.  Es una variable cualitativa nominal.\n",
        "\n",
        "*   **Lead time**. Los días de anticipación con los que el cliente reserva una habitación (es decir, el tiempo que transcurre entre la fecha de reservación y la fecha en la que el cliente ingresa al hotel). Es una variable cuantitativa discreta, salvo el mes, que está expresado como variable cualitativa nominal.   \n",
        "\n",
        "*   **Market segment**. Es una variable de texto que representa la designacion de  agentes de viajes u operadores turisticos. Es una variable cualitativa nominal.\n",
        "\n",
        "*   **Meal**. Paquetes de comida reservada. Son variables de texto, dado que son siglas correspondientes al tipo de comida que tiene disponible en su paquete. Es una variable cualitativa nominal.\n",
        "\n",
        "\n",
        "*   **Previous bookings not canceled**. Indica la cantidad de reservas concretadas que el cliente ya tenía previamente. Es una variable cuantitativa discreta. \n",
        "\n",
        "\n",
        "*   **Previous cancellations**. Indica cuántas cancelaciones previas ya había tenido el cliente. Es una variable cuantitativa discreta. \n",
        "\n",
        "\n",
        "*   **Required car parking spaces**. Cantidad de plazas de estacionamiento que necesita el cliente. Es una variable cuantitativa discreta.  \n",
        "\n",
        "\n",
        "*   **Reservation status date**. Es la fecha de registro de la reserva. Es una variable cuantitativa discreta.\n",
        "\n",
        "*   **Reserved room type**. Tipo de habitación reservada. Es una variable cualitativa nominal. \n",
        "\n",
        "*   **Stays in weekend nights**. Cantidad de noches de la reserva que corresponden a días del fin de semana. Es una variable cuantitativa discreta. \n",
        "\n",
        "*   **Stays in week nights**. Cantidad de noches de la reserva que corresponden a días de la semana. Es una variable cuantitativa discreta. \n",
        "\n",
        "*   **Total of special requests**. Cantidad de solicitudes especiales del cliente. Es una variable cuantitativa discreta. \n",
        "\n",
        "\n",
        "La salida, is_canceled, es el resultado que queremos predecir. Es un booleano que es 1 si la reserva fue cancelada y 0 si no.  \n",
        "\n",
        "\n",
        "\n",
        "\n",
        "\n",
        "\n",
        "\n",
        "\n"
      ]
    },
    {
      "cell_type": "markdown",
      "metadata": {
        "id": "ykB1F3lJlgbx"
      },
      "source": [
        "### Tipos de variable \n",
        "\n",
        "\n",
        "\n",
        "\n"
      ]
    },
    {
      "cell_type": "markdown",
      "metadata": {
        "id": "jQEXJ7cfcflp"
      },
      "source": [
        "#### Variables Cuantitativas\n",
        "Para las variables cuantitativas del modelo, podemos calcular media, mediana, moda, etc. \n",
        "Utilizamos un método auxiliar para calcular y mostrar las medidas: "
      ]
    },
    {
      "cell_type": "code",
      "execution_count": null,
      "metadata": {
        "id": "T3YaohA5Ch4I"
      },
      "outputs": [],
      "source": [
        "def mostrar_medidas_resumen(columna):\n",
        "    media = df[columna].mean()\n",
        "    mediana = st.median(df[columna])\n",
        "    moda = st.mode(df[columna])\n",
        "    desviacion = df[columna].std()\n",
        "\n",
        "    print(f'Medidas de resumen para la variable {columna}:\\n\\\n",
        "    \\tMedia: {media}\\n\\\n",
        "    \\tMediana: {mediana}\\n\\\n",
        "    \\tModa: {moda}\\n\\\n",
        "    \\tDesviación estándar: {desviacion}')\n"
      ]
    },
    {
      "cell_type": "markdown",
      "metadata": {
        "id": "AdH8wFqCChD5"
      },
      "source": [
        "\n",
        "\n",
        "A continuación analizamos las variables cuantitativas que identificamos anteriormente. \n",
        "\n",
        "\n"
      ]
    },
    {
      "cell_type": "markdown",
      "metadata": {
        "id": "AVZrx5TWcpZ0"
      },
      "source": [
        "\n",
        "###### lead_time"
      ]
    },
    {
      "cell_type": "code",
      "execution_count": null,
      "metadata": {
        "colab": {
          "base_uri": "https://localhost:8080/"
        },
        "id": "SJUNUNGqBUx6",
        "outputId": "1c4dcd60-a624-41b2-9a1c-e208ab73b04d"
      },
      "outputs": [
        {
          "output_type": "stream",
          "name": "stdout",
          "text": [
            "Medidas de resumen para la variable lead_time:\n",
            "    \tMedia: 112.24818697204141\n",
            "    \tMediana: 78\n",
            "    \tModa: 0\n",
            "    \tDesviación estándar: 110.71795300478553\n"
          ]
        }
      ],
      "source": [
        "mostrar_medidas_resumen('lead_time')"
      ]
    },
    {
      "cell_type": "markdown",
      "metadata": {
        "id": "59rSwN5LdK-M"
      },
      "source": [
        "###### arrival_date_year"
      ]
    },
    {
      "cell_type": "code",
      "execution_count": null,
      "metadata": {
        "colab": {
          "base_uri": "https://localhost:8080/"
        },
        "id": "ZAurmIHAdbUK",
        "outputId": "4d347bf4-a3c2-4ff9-efb9-357a68d6b9a4"
      },
      "outputs": [
        {
          "output_type": "stream",
          "name": "stdout",
          "text": [
            "Medidas de resumen para la variable arrival_date_year:\n",
            "    \tMedia: 2016.1547494064253\n",
            "    \tMediana: 2016\n",
            "    \tModa: 2016\n",
            "    \tDesviación estándar: 0.7083887398974893\n"
          ]
        }
      ],
      "source": [
        "mostrar_medidas_resumen('arrival_date_year')"
      ]
    },
    {
      "cell_type": "markdown",
      "metadata": {
        "id": "NR5KY6TOeKl7"
      },
      "source": [
        "###### arrival_date_week_number"
      ]
    },
    {
      "cell_type": "code",
      "execution_count": null,
      "metadata": {
        "colab": {
          "base_uri": "https://localhost:8080/"
        },
        "id": "suhTDuUreSKy",
        "outputId": "52d226c1-ed80-4dec-f2e5-c9ff0e132104"
      },
      "outputs": [
        {
          "output_type": "stream",
          "name": "stdout",
          "text": [
            "Medidas de resumen para la variable arrival_date_week_number:\n",
            "    \tMedia: 27.21808020932599\n",
            "    \tMediana: 28\n",
            "    \tModa: 33\n",
            "    \tDesviación estándar: 13.52601039171468\n"
          ]
        }
      ],
      "source": [
        "mostrar_medidas_resumen('arrival_date_week_number')"
      ]
    },
    {
      "cell_type": "markdown",
      "metadata": {
        "id": "P_rV5fxfevAz"
      },
      "source": [
        "###### arrival_date_day_of_month"
      ]
    },
    {
      "cell_type": "code",
      "execution_count": null,
      "metadata": {
        "colab": {
          "base_uri": "https://localhost:8080/"
        },
        "id": "-D0pYVIeeyHV",
        "outputId": "f887aa2a-ddea-440e-8e5a-876ba2ec8840"
      },
      "outputs": [
        {
          "output_type": "stream",
          "name": "stdout",
          "text": [
            "Medidas de resumen para la variable arrival_date_day_of_month:\n",
            "    \tMedia: 15.785812349587324\n",
            "    \tMediana: 16\n",
            "    \tModa: 17\n",
            "    \tDesviación estándar: 8.79548857237456\n"
          ]
        }
      ],
      "source": [
        "mostrar_medidas_resumen('arrival_date_day_of_month')"
      ]
    },
    {
      "cell_type": "markdown",
      "metadata": {
        "id": "Vdn9OxYVfAgq"
      },
      "source": [
        "###### stays_in_weekend_nights"
      ]
    },
    {
      "cell_type": "code",
      "execution_count": null,
      "metadata": {
        "colab": {
          "base_uri": "https://localhost:8080/"
        },
        "id": "I-rRJoYEfC8h",
        "outputId": "2bd13721-9436-4fbb-9000-640810829b57"
      },
      "outputs": [
        {
          "output_type": "stream",
          "name": "stdout",
          "text": [
            "Medidas de resumen para la variable stays_in_weekend_nights:\n",
            "    \tMedia: 0.9241354804322194\n",
            "    \tMediana: 1\n",
            "    \tModa: 0\n",
            "    \tDesviación estándar: 0.9931008320854529\n"
          ]
        }
      ],
      "source": [
        "mostrar_medidas_resumen('stays_in_weekend_nights')"
      ]
    },
    {
      "cell_type": "markdown",
      "metadata": {
        "id": "iYyD5azA4inI"
      },
      "source": [
        "###### stays_in_week_nights"
      ]
    },
    {
      "cell_type": "code",
      "execution_count": null,
      "metadata": {
        "colab": {
          "base_uri": "https://localhost:8080/"
        },
        "id": "VSNcx3rX4nxa",
        "outputId": "fe0e61da-e7f4-420e-e0eb-d7f80e4324b0"
      },
      "outputs": [
        {
          "output_type": "stream",
          "name": "stdout",
          "text": [
            "Medidas de resumen para la variable stays_in_week_nights:\n",
            "    \tMedia: 2.5100544312179993\n",
            "    \tMediana: 2\n",
            "    \tModa: 2\n",
            "    \tDesviación estándar: 1.88492598623515\n"
          ]
        }
      ],
      "source": [
        "mostrar_medidas_resumen('stays_in_week_nights')"
      ]
    },
    {
      "cell_type": "markdown",
      "metadata": {
        "id": "m5gv8HxNUvU6"
      },
      "source": [
        "\n",
        "###### Adults\n",
        "\n",
        "\n",
        "\n"
      ]
    },
    {
      "cell_type": "code",
      "execution_count": null,
      "metadata": {
        "colab": {
          "base_uri": "https://localhost:8080/"
        },
        "id": "YYwHYYJaVDdj",
        "outputId": "4a34c6ae-4a8f-447c-fd9d-794bbd53461c"
      },
      "outputs": [
        {
          "output_type": "stream",
          "name": "stdout",
          "text": [
            "Medidas de resumen para la variable adults:\n",
            "    \tMedia: 1.862791336229871\n",
            "    \tMediana: 2\n",
            "    \tModa: 2\n",
            "    \tDesviación estándar: 0.5890663515933875\n"
          ]
        }
      ],
      "source": [
        "mostrar_medidas_resumen('adults')"
      ]
    },
    {
      "cell_type": "markdown",
      "metadata": {
        "id": "rFoA3kUq42mz"
      },
      "source": [
        "###### children"
      ]
    },
    {
      "cell_type": "code",
      "execution_count": null,
      "metadata": {
        "colab": {
          "base_uri": "https://localhost:8080/"
        },
        "id": "jgCw2HsT45lo",
        "outputId": "03f50dd7-15b4-4316-9ecc-7a75f9859c69"
      },
      "outputs": [
        {
          "output_type": "stream",
          "name": "stdout",
          "text": [
            "Medidas de resumen para la variable children:\n",
            "    \tMedia: 0.10489589558868662\n",
            "    \tMediana: 0.0\n",
            "    \tModa: 0.0\n",
            "    \tDesviación estándar: 0.4028474531690174\n"
          ]
        }
      ],
      "source": [
        "mostrar_medidas_resumen('children')"
      ]
    },
    {
      "cell_type": "markdown",
      "metadata": {
        "id": "-T_8B2xk5HVK"
      },
      "source": [
        "###### babies"
      ]
    },
    {
      "cell_type": "code",
      "execution_count": null,
      "metadata": {
        "colab": {
          "base_uri": "https://localhost:8080/"
        },
        "id": "OkdLBsFx5LfY",
        "outputId": "b86c4ddf-c09d-464f-8c52-f2738717e8c2"
      },
      "outputs": [
        {
          "output_type": "stream",
          "name": "stdout",
          "text": [
            "Medidas de resumen para la variable babies:\n",
            "    \tMedia: 0.007155201653933746\n",
            "    \tMediana: 0\n",
            "    \tModa: 0\n",
            "    \tDesviación estándar: 0.09215849305350782\n"
          ]
        }
      ],
      "source": [
        "mostrar_medidas_resumen('babies')"
      ]
    },
    {
      "cell_type": "markdown",
      "metadata": {
        "id": "_ambh_Rh5rB1"
      },
      "source": [
        "###### previous_cancellations"
      ]
    },
    {
      "cell_type": "code",
      "execution_count": null,
      "metadata": {
        "colab": {
          "base_uri": "https://localhost:8080/"
        },
        "id": "4r2WYnD45tO0",
        "outputId": "944d63fd-568b-41ba-d80e-7d96961776d3"
      },
      "outputs": [
        {
          "output_type": "stream",
          "name": "stdout",
          "text": [
            "Medidas de resumen para la variable previous_cancellations:\n",
            "    \tMedia: 0.11479010870091903\n",
            "    \tMediana: 0\n",
            "    \tModa: 0\n",
            "    \tDesviación estándar: 0.993722923342379\n"
          ]
        }
      ],
      "source": [
        "mostrar_medidas_resumen('previous_cancellations')"
      ]
    },
    {
      "cell_type": "markdown",
      "metadata": {
        "id": "4XXX3jEj5308"
      },
      "source": [
        "###### previous_bookings_not_canceled"
      ]
    },
    {
      "cell_type": "code",
      "execution_count": null,
      "metadata": {
        "colab": {
          "base_uri": "https://localhost:8080/"
        },
        "id": "1vS-dFYx56Sx",
        "outputId": "81b5e2eb-819d-42a6-ebcd-4dd8b4c0ca68"
      },
      "outputs": [
        {
          "output_type": "stream",
          "name": "stdout",
          "text": [
            "Medidas de resumen para la variable previous_bookings_not_canceled:\n",
            "    \tMedia: 0.11542002487361297\n",
            "    \tMediana: 0\n",
            "    \tModa: 0\n",
            "    \tDesviación estándar: 1.3963592787684405\n"
          ]
        }
      ],
      "source": [
        "mostrar_medidas_resumen('previous_bookings_not_canceled')"
      ]
    },
    {
      "cell_type": "markdown",
      "metadata": {
        "id": "THDkESo_6TNr"
      },
      "source": [
        "###### booking_changes"
      ]
    },
    {
      "cell_type": "code",
      "execution_count": null,
      "metadata": {
        "colab": {
          "base_uri": "https://localhost:8080/"
        },
        "id": "IsSX4nXj6W0R",
        "outputId": "798d03c6-a0d0-4c07-a41f-3d4e935008f4"
      },
      "outputs": [
        {
          "output_type": "stream",
          "name": "stdout",
          "text": [
            "Medidas de resumen para la variable booking_changes:\n",
            "    \tMedia: 0.19595238479802304\n",
            "    \tMediana: 0\n",
            "    \tModa: 0\n",
            "    \tDesviación estándar: 0.6105194279379025\n"
          ]
        }
      ],
      "source": [
        "mostrar_medidas_resumen('booking_changes')"
      ]
    },
    {
      "cell_type": "markdown",
      "metadata": {
        "id": "dJYK9y_E6g1Q"
      },
      "source": [
        "###### days_in_waiting_list"
      ]
    },
    {
      "cell_type": "code",
      "execution_count": null,
      "metadata": {
        "colab": {
          "base_uri": "https://localhost:8080/"
        },
        "id": "Wno_3X2p6itd",
        "outputId": "55fa67d3-8f78-4fa3-bcbf-d532fa3ba5dc"
      },
      "outputs": [
        {
          "output_type": "stream",
          "name": "stdout",
          "text": [
            "Medidas de resumen para la variable days_in_waiting_list:\n",
            "    \tMedia: 2.6389772745626927\n",
            "    \tMediana: 0\n",
            "    \tModa: 0\n",
            "    \tDesviación estándar: 18.619092452663697\n"
          ]
        }
      ],
      "source": [
        "mostrar_medidas_resumen('days_in_waiting_list')"
      ]
    },
    {
      "cell_type": "markdown",
      "metadata": {
        "id": "balEXKMD6r70"
      },
      "source": [
        "###### adr"
      ]
    },
    {
      "cell_type": "code",
      "execution_count": null,
      "metadata": {
        "colab": {
          "base_uri": "https://localhost:8080/"
        },
        "id": "FoX7HqJz6t9P",
        "outputId": "2bf07c9c-8594-454d-a77f-5e817238e390"
      },
      "outputs": [
        {
          "output_type": "stream",
          "name": "stdout",
          "text": [
            "Medidas de resumen para la variable adr:\n",
            "    \tMedia: 102.38377303635745\n",
            "    \tMediana: 95.0\n",
            "    \tModa: 62.0\n",
            "    \tDesviación estándar: 47.75763998549094\n"
          ]
        }
      ],
      "source": [
        "mostrar_medidas_resumen('adr')"
      ]
    },
    {
      "cell_type": "markdown",
      "metadata": {
        "id": "EgPS1j5biCUo"
      },
      "source": [
        "###### required_car_parking_spaces"
      ]
    },
    {
      "cell_type": "code",
      "execution_count": null,
      "metadata": {
        "colab": {
          "base_uri": "https://localhost:8080/"
        },
        "id": "V5VVVK20iHY4",
        "outputId": "5490a0e9-eee5-44d2-8376-eb3a0ddf495e"
      },
      "outputs": [
        {
          "output_type": "stream",
          "name": "stdout",
          "text": [
            "Medidas de resumen para la variable required_car_parking_spaces:\n",
            "    \tMedia: 0.04995719800365028\n",
            "    \tMediana: 0\n",
            "    \tModa: 0\n",
            "    \tDesviación estándar: 0.22102332755189846\n"
          ]
        }
      ],
      "source": [
        "mostrar_medidas_resumen('required_car_parking_spaces')"
      ]
    },
    {
      "cell_type": "markdown",
      "metadata": {
        "id": "ISlCVUsvjbXw"
      },
      "source": [
        "###### reservation_status_date"
      ]
    },
    {
      "cell_type": "code",
      "execution_count": null,
      "metadata": {
        "colab": {
          "base_uri": "https://localhost:8080/"
        },
        "id": "ZXmaTFyBjd7F",
        "outputId": "cea3db89-2267-4feb-a178-8fcac9783c34"
      },
      "outputs": [
        {
          "output_type": "stream",
          "name": "stdout",
          "text": [
            "Medidas de resumen para la variable reservation_status_date:\n",
            "    \tMedia: 2016-07-18 03:11:41.765380352\n",
            "    \tMediana: 2016-07-24 00:00:00\n",
            "    \tModa: 2015-10-21 00:00:00\n",
            "    \tDesviación estándar: 230 days 14:29:51.156111756\n"
          ]
        }
      ],
      "source": [
        "df['reservation_status_date'] = pd.to_datetime(df['reservation_status_date'], infer_datetime_format=True)\n",
        "mostrar_medidas_resumen('reservation_status_date')"
      ]
    },
    {
      "cell_type": "markdown",
      "metadata": {
        "id": "5R4a1it465yO"
      },
      "source": [
        "###### total_of_special_requests"
      ]
    },
    {
      "cell_type": "code",
      "execution_count": null,
      "metadata": {
        "colab": {
          "base_uri": "https://localhost:8080/"
        },
        "id": "eOdUeTMS68nM",
        "outputId": "705173de-5f8e-47cc-a07c-4281165b559c"
      },
      "outputs": [
        {
          "output_type": "stream",
          "name": "stdout",
          "text": [
            "Medidas de resumen para la variable total_of_special_requests:\n",
            "    \tMedia: 0.5237026149597015\n",
            "    \tMediana: 0\n",
            "    \tModa: 0\n",
            "    \tDesviación estándar: 0.7754122489220224\n"
          ]
        }
      ],
      "source": [
        "mostrar_medidas_resumen('total_of_special_requests')"
      ]
    },
    {
      "cell_type": "code",
      "execution_count": null,
      "metadata": {
        "colab": {
          "base_uri": "https://localhost:8080/",
          "height": 364
        },
        "id": "D7298PPEz1UI",
        "outputId": "67205c5b-549a-4f5f-f9bb-1be8ec5bddf6"
      },
      "outputs": [
        {
          "output_type": "execute_result",
          "data": {
            "text/plain": [
              "          lead_time  arrival_date_year  arrival_date_week_number  \\\n",
              "count  61913.000000       61913.000000               61913.00000   \n",
              "mean     112.248187        2016.154749                  27.21808   \n",
              "std      110.717953           0.708389                  13.52601   \n",
              "min        0.000000        2015.000000                   1.00000   \n",
              "25%       23.000000        2016.000000                  16.00000   \n",
              "50%       78.000000        2016.000000                  28.00000   \n",
              "75%      172.000000        2017.000000                  38.00000   \n",
              "max      629.000000        2017.000000                  53.00000   \n",
              "\n",
              "       arrival_date_day_of_month  stays_in_weekend_nights  \\\n",
              "count               61913.000000             61913.000000   \n",
              "mean                   15.785812                 0.924135   \n",
              "std                     8.795489                 0.993101   \n",
              "min                     1.000000                 0.000000   \n",
              "25%                     8.000000                 0.000000   \n",
              "50%                    16.000000                 1.000000   \n",
              "75%                    23.000000                 2.000000   \n",
              "max                    31.000000                16.000000   \n",
              "\n",
              "       stays_in_week_nights        adults      children        babies  \\\n",
              "count          61913.000000  61913.000000  61909.000000  61913.000000   \n",
              "mean               2.510054      1.862791      0.104896      0.007155   \n",
              "std                1.884926      0.589066      0.402847      0.092158   \n",
              "min                0.000000      0.000000      0.000000      0.000000   \n",
              "25%                1.000000      2.000000      0.000000      0.000000   \n",
              "50%                2.000000      2.000000      0.000000      0.000000   \n",
              "75%                3.000000      2.000000      0.000000      0.000000   \n",
              "max               40.000000     55.000000     10.000000      9.000000   \n",
              "\n",
              "       is_repeated_guest  previous_cancellations  \\\n",
              "count       61913.000000            61913.000000   \n",
              "mean            0.027991                0.114790   \n",
              "std             0.164948                0.993723   \n",
              "min             0.000000                0.000000   \n",
              "25%             0.000000                0.000000   \n",
              "50%             0.000000                0.000000   \n",
              "75%             0.000000                0.000000   \n",
              "max             1.000000               26.000000   \n",
              "\n",
              "       previous_bookings_not_canceled  booking_changes         agent  \\\n",
              "count                    61913.000000     61913.000000  54023.000000   \n",
              "mean                         0.115420         0.195952     84.541010   \n",
              "std                          1.396359         0.610519    109.523772   \n",
              "min                          0.000000         0.000000      1.000000   \n",
              "25%                          0.000000         0.000000      9.000000   \n",
              "50%                          0.000000         0.000000     12.000000   \n",
              "75%                          0.000000         0.000000    208.000000   \n",
              "max                         70.000000        17.000000    535.000000   \n",
              "\n",
              "           company  days_in_waiting_list           adr  \\\n",
              "count  3152.000000          61913.000000  61913.000000   \n",
              "mean    188.539340              2.638977    102.383773   \n",
              "std     129.457025             18.619092     47.757640   \n",
              "min       9.000000              0.000000     -6.380000   \n",
              "25%      67.000000              0.000000     70.000000   \n",
              "50%     179.000000              0.000000     95.000000   \n",
              "75%     270.000000              0.000000    126.000000   \n",
              "max     543.000000            391.000000    510.000000   \n",
              "\n",
              "       required_car_parking_spaces  total_of_special_requests   is_canceled  \n",
              "count                 61913.000000               61913.000000  61913.000000  \n",
              "mean                      0.049957                   0.523703      0.499750  \n",
              "std                       0.221023                   0.775412      0.500004  \n",
              "min                       0.000000                   0.000000      0.000000  \n",
              "25%                       0.000000                   0.000000      0.000000  \n",
              "50%                       0.000000                   0.000000      0.000000  \n",
              "75%                       0.000000                   1.000000      1.000000  \n",
              "max                       8.000000                   5.000000      1.000000  "
            ],
            "text/html": [
              "\n",
              "  <div id=\"df-3e98f7da-cdd2-4b02-9e8b-7237f2fe13c2\">\n",
              "    <div class=\"colab-df-container\">\n",
              "      <div>\n",
              "<style scoped>\n",
              "    .dataframe tbody tr th:only-of-type {\n",
              "        vertical-align: middle;\n",
              "    }\n",
              "\n",
              "    .dataframe tbody tr th {\n",
              "        vertical-align: top;\n",
              "    }\n",
              "\n",
              "    .dataframe thead th {\n",
              "        text-align: right;\n",
              "    }\n",
              "</style>\n",
              "<table border=\"1\" class=\"dataframe\">\n",
              "  <thead>\n",
              "    <tr style=\"text-align: right;\">\n",
              "      <th></th>\n",
              "      <th>lead_time</th>\n",
              "      <th>arrival_date_year</th>\n",
              "      <th>arrival_date_week_number</th>\n",
              "      <th>arrival_date_day_of_month</th>\n",
              "      <th>stays_in_weekend_nights</th>\n",
              "      <th>stays_in_week_nights</th>\n",
              "      <th>adults</th>\n",
              "      <th>children</th>\n",
              "      <th>babies</th>\n",
              "      <th>is_repeated_guest</th>\n",
              "      <th>previous_cancellations</th>\n",
              "      <th>previous_bookings_not_canceled</th>\n",
              "      <th>booking_changes</th>\n",
              "      <th>agent</th>\n",
              "      <th>company</th>\n",
              "      <th>days_in_waiting_list</th>\n",
              "      <th>adr</th>\n",
              "      <th>required_car_parking_spaces</th>\n",
              "      <th>total_of_special_requests</th>\n",
              "      <th>is_canceled</th>\n",
              "    </tr>\n",
              "  </thead>\n",
              "  <tbody>\n",
              "    <tr>\n",
              "      <th>count</th>\n",
              "      <td>61913.000000</td>\n",
              "      <td>61913.000000</td>\n",
              "      <td>61913.00000</td>\n",
              "      <td>61913.000000</td>\n",
              "      <td>61913.000000</td>\n",
              "      <td>61913.000000</td>\n",
              "      <td>61913.000000</td>\n",
              "      <td>61909.000000</td>\n",
              "      <td>61913.000000</td>\n",
              "      <td>61913.000000</td>\n",
              "      <td>61913.000000</td>\n",
              "      <td>61913.000000</td>\n",
              "      <td>61913.000000</td>\n",
              "      <td>54023.000000</td>\n",
              "      <td>3152.000000</td>\n",
              "      <td>61913.000000</td>\n",
              "      <td>61913.000000</td>\n",
              "      <td>61913.000000</td>\n",
              "      <td>61913.000000</td>\n",
              "      <td>61913.000000</td>\n",
              "    </tr>\n",
              "    <tr>\n",
              "      <th>mean</th>\n",
              "      <td>112.248187</td>\n",
              "      <td>2016.154749</td>\n",
              "      <td>27.21808</td>\n",
              "      <td>15.785812</td>\n",
              "      <td>0.924135</td>\n",
              "      <td>2.510054</td>\n",
              "      <td>1.862791</td>\n",
              "      <td>0.104896</td>\n",
              "      <td>0.007155</td>\n",
              "      <td>0.027991</td>\n",
              "      <td>0.114790</td>\n",
              "      <td>0.115420</td>\n",
              "      <td>0.195952</td>\n",
              "      <td>84.541010</td>\n",
              "      <td>188.539340</td>\n",
              "      <td>2.638977</td>\n",
              "      <td>102.383773</td>\n",
              "      <td>0.049957</td>\n",
              "      <td>0.523703</td>\n",
              "      <td>0.499750</td>\n",
              "    </tr>\n",
              "    <tr>\n",
              "      <th>std</th>\n",
              "      <td>110.717953</td>\n",
              "      <td>0.708389</td>\n",
              "      <td>13.52601</td>\n",
              "      <td>8.795489</td>\n",
              "      <td>0.993101</td>\n",
              "      <td>1.884926</td>\n",
              "      <td>0.589066</td>\n",
              "      <td>0.402847</td>\n",
              "      <td>0.092158</td>\n",
              "      <td>0.164948</td>\n",
              "      <td>0.993723</td>\n",
              "      <td>1.396359</td>\n",
              "      <td>0.610519</td>\n",
              "      <td>109.523772</td>\n",
              "      <td>129.457025</td>\n",
              "      <td>18.619092</td>\n",
              "      <td>47.757640</td>\n",
              "      <td>0.221023</td>\n",
              "      <td>0.775412</td>\n",
              "      <td>0.500004</td>\n",
              "    </tr>\n",
              "    <tr>\n",
              "      <th>min</th>\n",
              "      <td>0.000000</td>\n",
              "      <td>2015.000000</td>\n",
              "      <td>1.00000</td>\n",
              "      <td>1.000000</td>\n",
              "      <td>0.000000</td>\n",
              "      <td>0.000000</td>\n",
              "      <td>0.000000</td>\n",
              "      <td>0.000000</td>\n",
              "      <td>0.000000</td>\n",
              "      <td>0.000000</td>\n",
              "      <td>0.000000</td>\n",
              "      <td>0.000000</td>\n",
              "      <td>0.000000</td>\n",
              "      <td>1.000000</td>\n",
              "      <td>9.000000</td>\n",
              "      <td>0.000000</td>\n",
              "      <td>-6.380000</td>\n",
              "      <td>0.000000</td>\n",
              "      <td>0.000000</td>\n",
              "      <td>0.000000</td>\n",
              "    </tr>\n",
              "    <tr>\n",
              "      <th>25%</th>\n",
              "      <td>23.000000</td>\n",
              "      <td>2016.000000</td>\n",
              "      <td>16.00000</td>\n",
              "      <td>8.000000</td>\n",
              "      <td>0.000000</td>\n",
              "      <td>1.000000</td>\n",
              "      <td>2.000000</td>\n",
              "      <td>0.000000</td>\n",
              "      <td>0.000000</td>\n",
              "      <td>0.000000</td>\n",
              "      <td>0.000000</td>\n",
              "      <td>0.000000</td>\n",
              "      <td>0.000000</td>\n",
              "      <td>9.000000</td>\n",
              "      <td>67.000000</td>\n",
              "      <td>0.000000</td>\n",
              "      <td>70.000000</td>\n",
              "      <td>0.000000</td>\n",
              "      <td>0.000000</td>\n",
              "      <td>0.000000</td>\n",
              "    </tr>\n",
              "    <tr>\n",
              "      <th>50%</th>\n",
              "      <td>78.000000</td>\n",
              "      <td>2016.000000</td>\n",
              "      <td>28.00000</td>\n",
              "      <td>16.000000</td>\n",
              "      <td>1.000000</td>\n",
              "      <td>2.000000</td>\n",
              "      <td>2.000000</td>\n",
              "      <td>0.000000</td>\n",
              "      <td>0.000000</td>\n",
              "      <td>0.000000</td>\n",
              "      <td>0.000000</td>\n",
              "      <td>0.000000</td>\n",
              "      <td>0.000000</td>\n",
              "      <td>12.000000</td>\n",
              "      <td>179.000000</td>\n",
              "      <td>0.000000</td>\n",
              "      <td>95.000000</td>\n",
              "      <td>0.000000</td>\n",
              "      <td>0.000000</td>\n",
              "      <td>0.000000</td>\n",
              "    </tr>\n",
              "    <tr>\n",
              "      <th>75%</th>\n",
              "      <td>172.000000</td>\n",
              "      <td>2017.000000</td>\n",
              "      <td>38.00000</td>\n",
              "      <td>23.000000</td>\n",
              "      <td>2.000000</td>\n",
              "      <td>3.000000</td>\n",
              "      <td>2.000000</td>\n",
              "      <td>0.000000</td>\n",
              "      <td>0.000000</td>\n",
              "      <td>0.000000</td>\n",
              "      <td>0.000000</td>\n",
              "      <td>0.000000</td>\n",
              "      <td>0.000000</td>\n",
              "      <td>208.000000</td>\n",
              "      <td>270.000000</td>\n",
              "      <td>0.000000</td>\n",
              "      <td>126.000000</td>\n",
              "      <td>0.000000</td>\n",
              "      <td>1.000000</td>\n",
              "      <td>1.000000</td>\n",
              "    </tr>\n",
              "    <tr>\n",
              "      <th>max</th>\n",
              "      <td>629.000000</td>\n",
              "      <td>2017.000000</td>\n",
              "      <td>53.00000</td>\n",
              "      <td>31.000000</td>\n",
              "      <td>16.000000</td>\n",
              "      <td>40.000000</td>\n",
              "      <td>55.000000</td>\n",
              "      <td>10.000000</td>\n",
              "      <td>9.000000</td>\n",
              "      <td>1.000000</td>\n",
              "      <td>26.000000</td>\n",
              "      <td>70.000000</td>\n",
              "      <td>17.000000</td>\n",
              "      <td>535.000000</td>\n",
              "      <td>543.000000</td>\n",
              "      <td>391.000000</td>\n",
              "      <td>510.000000</td>\n",
              "      <td>8.000000</td>\n",
              "      <td>5.000000</td>\n",
              "      <td>1.000000</td>\n",
              "    </tr>\n",
              "  </tbody>\n",
              "</table>\n",
              "</div>\n",
              "      <button class=\"colab-df-convert\" onclick=\"convertToInteractive('df-3e98f7da-cdd2-4b02-9e8b-7237f2fe13c2')\"\n",
              "              title=\"Convert this dataframe to an interactive table.\"\n",
              "              style=\"display:none;\">\n",
              "        \n",
              "  <svg xmlns=\"http://www.w3.org/2000/svg\" height=\"24px\"viewBox=\"0 0 24 24\"\n",
              "       width=\"24px\">\n",
              "    <path d=\"M0 0h24v24H0V0z\" fill=\"none\"/>\n",
              "    <path d=\"M18.56 5.44l.94 2.06.94-2.06 2.06-.94-2.06-.94-.94-2.06-.94 2.06-2.06.94zm-11 1L8.5 8.5l.94-2.06 2.06-.94-2.06-.94L8.5 2.5l-.94 2.06-2.06.94zm10 10l.94 2.06.94-2.06 2.06-.94-2.06-.94-.94-2.06-.94 2.06-2.06.94z\"/><path d=\"M17.41 7.96l-1.37-1.37c-.4-.4-.92-.59-1.43-.59-.52 0-1.04.2-1.43.59L10.3 9.45l-7.72 7.72c-.78.78-.78 2.05 0 2.83L4 21.41c.39.39.9.59 1.41.59.51 0 1.02-.2 1.41-.59l7.78-7.78 2.81-2.81c.8-.78.8-2.07 0-2.86zM5.41 20L4 18.59l7.72-7.72 1.47 1.35L5.41 20z\"/>\n",
              "  </svg>\n",
              "      </button>\n",
              "      \n",
              "  <style>\n",
              "    .colab-df-container {\n",
              "      display:flex;\n",
              "      flex-wrap:wrap;\n",
              "      gap: 12px;\n",
              "    }\n",
              "\n",
              "    .colab-df-convert {\n",
              "      background-color: #E8F0FE;\n",
              "      border: none;\n",
              "      border-radius: 50%;\n",
              "      cursor: pointer;\n",
              "      display: none;\n",
              "      fill: #1967D2;\n",
              "      height: 32px;\n",
              "      padding: 0 0 0 0;\n",
              "      width: 32px;\n",
              "    }\n",
              "\n",
              "    .colab-df-convert:hover {\n",
              "      background-color: #E2EBFA;\n",
              "      box-shadow: 0px 1px 2px rgba(60, 64, 67, 0.3), 0px 1px 3px 1px rgba(60, 64, 67, 0.15);\n",
              "      fill: #174EA6;\n",
              "    }\n",
              "\n",
              "    [theme=dark] .colab-df-convert {\n",
              "      background-color: #3B4455;\n",
              "      fill: #D2E3FC;\n",
              "    }\n",
              "\n",
              "    [theme=dark] .colab-df-convert:hover {\n",
              "      background-color: #434B5C;\n",
              "      box-shadow: 0px 1px 3px 1px rgba(0, 0, 0, 0.15);\n",
              "      filter: drop-shadow(0px 1px 2px rgba(0, 0, 0, 0.3));\n",
              "      fill: #FFFFFF;\n",
              "    }\n",
              "  </style>\n",
              "\n",
              "      <script>\n",
              "        const buttonEl =\n",
              "          document.querySelector('#df-3e98f7da-cdd2-4b02-9e8b-7237f2fe13c2 button.colab-df-convert');\n",
              "        buttonEl.style.display =\n",
              "          google.colab.kernel.accessAllowed ? 'block' : 'none';\n",
              "\n",
              "        async function convertToInteractive(key) {\n",
              "          const element = document.querySelector('#df-3e98f7da-cdd2-4b02-9e8b-7237f2fe13c2');\n",
              "          const dataTable =\n",
              "            await google.colab.kernel.invokeFunction('convertToInteractive',\n",
              "                                                     [key], {});\n",
              "          if (!dataTable) return;\n",
              "\n",
              "          const docLinkHtml = 'Like what you see? Visit the ' +\n",
              "            '<a target=\"_blank\" href=https://colab.research.google.com/notebooks/data_table.ipynb>data table notebook</a>'\n",
              "            + ' to learn more about interactive tables.';\n",
              "          element.innerHTML = '';\n",
              "          dataTable['output_type'] = 'display_data';\n",
              "          await google.colab.output.renderOutput(dataTable, element);\n",
              "          const docLink = document.createElement('div');\n",
              "          docLink.innerHTML = docLinkHtml;\n",
              "          element.appendChild(docLink);\n",
              "        }\n",
              "      </script>\n",
              "    </div>\n",
              "  </div>\n",
              "  "
            ]
          },
          "metadata": {},
          "execution_count": 315
        }
      ],
      "source": [
        "df.describe()"
      ]
    },
    {
      "cell_type": "markdown",
      "metadata": {
        "id": "u3wwS0sjBRvp"
      },
      "source": [
        "\n",
        "\n",
        "\n",
        "#### Variables Cualitativas\n",
        "A continuación analizamos las variables cualitativas que identificamos anteriormente, estudiando los posibles valores que toman y cuan frecuentemente lo hacen. \n",
        "\n",
        "\n"
      ]
    },
    {
      "cell_type": "markdown",
      "metadata": {
        "id": "32FTq0zyqYAO"
      },
      "source": [
        "###### hotel \n",
        "\n",
        "Como habíamos visto anteriormente, los dos valores que se presentan de la variable hotel son City Hotel y Resort Hotel. Vemos que en tenemos datos de City Hotel en mayor proporción que datos de Resort Hotel"
      ]
    },
    {
      "cell_type": "code",
      "execution_count": null,
      "metadata": {
        "colab": {
          "base_uri": "https://localhost:8080/",
          "height": 541
        },
        "id": "6jU7TpKeqnhY",
        "outputId": "1a658d8d-7a6a-4123-defe-60832c38d25f"
      },
      "outputs": [
        {
          "output_type": "stream",
          "name": "stdout",
          "text": [
            "City Hotel      42129\n",
            "Resort Hotel    19784\n",
            "Name: hotel, dtype: int64\n"
          ]
        },
        {
          "output_type": "execute_result",
          "data": {
            "text/plain": [
              "<Axes: title={'center': 'Reservas por hotel'}, xlabel='Hotel', ylabel='Cantidad de visitas'>"
            ]
          },
          "metadata": {},
          "execution_count": 316
        },
        {
          "output_type": "display_data",
          "data": {
            "text/plain": [
              "<Figure size 640x480 with 1 Axes>"
            ],
            "image/png": "[encoded data removed]"
          },
          "metadata": {}
        }
      ],
      "source": [
        "print(df['hotel'].sort_values().value_counts())\n",
        "\n",
        "df['hotel'].sort_values().value_counts().plot(kind = 'bar', width = 0.3, rot = 0, color=['mediumturquoise', 'plum'], title='Reservas por hotel', xlabel='Hotel', ylabel='Cantidad de visitas')"
      ]
    },
    {
      "cell_type": "markdown",
      "metadata": {
        "id": "3kg8snxTqn3d"
      },
      "source": [
        "###### arrival_date_month\n",
        "\n",
        "En este caso, los posibles valores son los 12 meses del año. Vemos que Agosto es el mes con más visitas, y Enero el mes con menos visitas.  "
      ]
    },
    {
      "cell_type": "code",
      "execution_count": null,
      "metadata": {
        "colab": {
          "base_uri": "https://localhost:8080/",
          "height": 715
        },
        "id": "DX0Bn75ArT61",
        "outputId": "3351d125-30e1-4ade-823e-11ff4e74b980"
      },
      "outputs": [
        {
          "output_type": "stream",
          "name": "stdout",
          "text": [
            "August       7176\n",
            "July         6524\n",
            "May          6159\n",
            "April        5878\n",
            "October      5863\n",
            "June         5772\n",
            "September    5619\n",
            "March        4899\n",
            "February     4125\n",
            "December     3493\n",
            "November     3404\n",
            "January      3001\n",
            "Name: arrival_date_month, dtype: int64\n"
          ]
        },
        {
          "output_type": "execute_result",
          "data": {
            "text/plain": [
              "<Axes: title={'center': 'Reservas por mes'}, xlabel='Cantidad de visitas', ylabel='Mes'>"
            ]
          },
          "metadata": {},
          "execution_count": 317
        },
        {
          "output_type": "display_data",
          "data": {
            "text/plain": [
              "<Figure size 640x480 with 1 Axes>"
            ],
            "image/png": "[encoded data removed]"
          },
          "metadata": {}
        }
      ],
      "source": [
        "print(df['arrival_date_month'].sort_values().value_counts())\n",
        "\n",
        "df['arrival_date_month'].sort_values().value_counts().plot(kind = 'barh', rot = 0, color=['mediumturquoise', 'lightpink', 'plum', 'lightskyblue', 'gold'], title='Reservas por mes', xlabel='Cantidad de visitas', ylabel='Mes')"
      ]
    },
    {
      "cell_type": "markdown",
      "metadata": {
        "id": "INUm_8RFrMHn"
      },
      "source": [
        "\n",
        "###### country\n",
        "\n",
        "Vemos que la mayoría de las visitas son de Portugal, y la minoria son de Fiji y otros países. "
      ]
    },
    {
      "cell_type": "code",
      "execution_count": null,
      "metadata": {
        "colab": {
          "base_uri": "https://localhost:8080/"
        },
        "id": "F6DXANI3rU0H",
        "outputId": "2163e0eb-e900-4d6e-ac6f-a0fdc41bbddd"
      },
      "outputs": [
        {
          "output_type": "stream",
          "name": "stdout",
          "text": [
            "PRT    27950\n",
            "GBR     5733\n",
            "FRA     4809\n",
            "ESP     4210\n",
            "DEU     3312\n",
            "       ...  \n",
            "MWI        1\n",
            "JAM        1\n",
            "MDG        1\n",
            "MCO        1\n",
            "FJI        1\n",
            "Name: country, Length: 149, dtype: int64\n"
          ]
        }
      ],
      "source": [
        "print(df['country'].sort_values().value_counts())\n",
        "\n",
        "world = geopandas.read_file(\n",
        "    geopandas.datasets.get_path('naturalearth_lowres')\n",
        ")\n",
        "\n",
        "world = pd.merge(\n",
        "    left=world, \n",
        "    right=df,\n",
        "    left_on='iso_a3',\n",
        "    right_on='country',\n",
        "    how='outer'\n",
        ")\n",
        "\n",
        "world.geometry.geom_type.value_counts()\n",
        "\n",
        "ax=world.boundary.plot(linewidth=0.2, figsize=(18, 14))\n",
        "ax.set_axis_off()\n",
        "world.plot(cmap='PuBu', ax=ax, column='country', missing_kwds={\n",
        "        \"color\": \"lightgrey\",\n",
        "        \"edgecolor\": \"white\",\n",
        "        \"hatch\": \"/////\",\n",
        "        \"label\": \"\",\n",
        "    },\n",
        ")"
      ]
    },
    {
      "cell_type": "markdown",
      "metadata": {
        "id": "XHO0allprNXU"
      },
      "source": [
        "\n",
        "###### reserved_room_type y assigned_room_type\n",
        "\n",
        "El tipo de habitación más solicitada es el \"A\" por amplia mayoría, y el menos solicitado es el \"L\". \n",
        "El tipo de habitación más asignado es el \"A\" y el menos asignado es el \"K\". "
      ]
    },
    {
      "cell_type": "code",
      "execution_count": null,
      "metadata": {
        "id": "zAMuDVcdrVYZ"
      },
      "outputs": [],
      "source": [
        "print(df['reserved_room_type'].sort_values().value_counts())\n",
        "print(df['assigned_room_type'].sort_values().value_counts())"
      ]
    },
    {
      "cell_type": "markdown",
      "metadata": {
        "id": "yK_BrgOMdLm4"
      },
      "source": [
        "Comparando los valores en un gráfico, observamos que hay una leve diferencia entre la cantidad de habitaciones de un tipo reservadas y asignadas:  "
      ]
    },
    {
      "cell_type": "code",
      "execution_count": null,
      "metadata": {
        "id": "kAXB6DgldQ79"
      },
      "outputs": [],
      "source": [
        "reserved = df['reserved_room_type'].sort_values().value_counts(dropna=\"false\")\n",
        "assigned = df['assigned_room_type'].sort_values().value_counts(dropna=\"false\")\n",
        "groups = np.unique(np.concatenate((assigned.index.tolist(), reserved.index.tolist()), 0))\n",
        "\n",
        "for group in groups:\n",
        "  if group not in reserved.index.tolist():\n",
        "    reserved.add(0)\n",
        "  if group not in assigned.index.tolist():\n",
        "    assigned.add(0)\n",
        "\n",
        "auxDf = pd.DataFrame({\n",
        "    \"Tipos de habitación\": groups, \n",
        "    \"assigned_room_type\": assigned, \n",
        "    \"reserved_room_type\": reserved\n",
        "})\n",
        "\n",
        "auxDf.plot(x='Tipos de habitación', ylabel='Cantidad', y=['assigned_room_type', 'reserved_room_type'], \n",
        "           kind='bar', width=0.9, rot=0, figsize=(11,7), \n",
        "           title='Habitaciones reservadas vs. asignadas', color=['mediumturquoise', 'plum'])"
      ]
    },
    {
      "cell_type": "markdown",
      "metadata": {
        "id": "2RMqSRM3rP6s"
      },
      "source": [
        "\n",
        "###### deposit_type \n",
        "\n",
        "La mayoría de los clientes eligen reservar sin depósito, seguidos por las reservas sin reembolso y minoritariamente por clientes que eligen reservas reembolsables. "
      ]
    },
    {
      "cell_type": "code",
      "execution_count": null,
      "metadata": {
        "id": "R2CxaQANrWd0"
      },
      "outputs": [],
      "source": [
        "print(df['deposit_type'].sort_values().value_counts())\n",
        "\n",
        "plt.pie(df['deposit_type'].sort_values().value_counts(), colors=['mediumturquoise', 'lightpink', 'blue'], labels = df['deposit_type'].sort_values().value_counts().index.tolist())\n",
        "plt.title('Cantidad de reservas por tipo de depósito')\n",
        "\n",
        "plt.show()"
      ]
    },
    {
      "cell_type": "markdown",
      "metadata": {
        "id": "TAP5yNvdL2G7"
      },
      "source": [
        "###### agent\n",
        "\n",
        "La mayoría de las reservas provienen de la agencia con id 9, seguidos por las de id 240 y luego por las de id 1. Hay varias agencias que tuvieron una única reserva. \n",
        "Observamos en el gráfico que un tercio de las reservas fueron hechas por agencias de viajes con menos de 900 reservas en total, un tercio por la agencia de id 9, y el tercio restante por otras agencias. "
      ]
    },
    {
      "cell_type": "code",
      "execution_count": null,
      "metadata": {
        "id": "tk0BRVTJMDKF"
      },
      "outputs": [],
      "source": [
        "print(df['agent'].sort_values().value_counts())\n",
        "\n",
        "agent = df['agent'].sort_values().value_counts()\n",
        "print(agent)\n",
        "\n",
        "significativas = agent[agent > 900]\n",
        "otras = agent[agent <= 900]\n",
        "\n",
        "df_agent_signi = pd.DataFrame(data = {\n",
        "    'agent': significativas.index.tolist(),\n",
        "    'cantidad': significativas.tolist()\n",
        "})\n",
        "df_agent_otros = pd.DataFrame(data = {\n",
        "    'agent' : ['otras'],\n",
        "    'cantidad': otras.sum()\n",
        "})\n",
        "\n",
        "df_agent_grafico = pd.concat([df_agent_signi, df_agent_otros])\n",
        "\n",
        "plt.pie(df_agent_grafico['cantidad'], \n",
        "        colors=['mediumturquoise', 'lightpink', 'plum', 'lightskyblue', 'gold'], \n",
        "        labels = df_agent_grafico['agent'])\n",
        "plt.title('Cantidad de reservas por agente')\n",
        "\n",
        "plt.show()"
      ]
    },
    {
      "cell_type": "markdown",
      "metadata": {
        "id": "TPUD3pbSrRj4"
      },
      "source": [
        "\n",
        "###### company \n",
        "\n",
        "Los id de compañía se encuentran distribuidos como vemos a continuación. La mayoría de las reservas están a cargo de la compañía con ID 40, seguida por la compañía con id 223. Hay muchas compañías que estuvieron a cargo de una única reserva. \n",
        "Podemos observar en el gráfico que aproximadamente la mitad de las reservas fueron hechas a través de compañías que tuvieron menos de 50 reservas en total. "
      ]
    },
    {
      "cell_type": "code",
      "execution_count": null,
      "metadata": {
        "id": "y2EaH1gyrW3E"
      },
      "outputs": [],
      "source": [
        "company = df['company'].sort_values().value_counts()\n",
        "print(company)\n",
        "\n",
        "significativas = company[company > 50]\n",
        "otras = company[company <= 50]\n",
        "\n",
        "df_company_signi = pd.DataFrame(data = {\n",
        "    'company': significativas.index.tolist(),\n",
        "    'cantidad': significativas.tolist()\n",
        "})\n",
        "df_company_otros = pd.DataFrame(data = {\n",
        "    'company' : ['otras'],\n",
        "    'cantidad': otras.sum()\n",
        "})\n",
        "\n",
        "df_company_grafico = pd.concat([df_company_signi, df_company_otros])\n",
        "\n",
        "plt.pie(df_company_grafico['cantidad'], \n",
        "        colors=['mediumturquoise', 'lightpink', 'plum', 'lightskyblue', 'gold'], \n",
        "        labels = df_company_grafico['company'])\n",
        "plt.title('Cantidad de reservas por compañia')\n",
        "\n",
        "plt.show()"
      ]
    },
    {
      "cell_type": "markdown",
      "metadata": {
        "id": "Q7DKYDb9rSsd"
      },
      "source": [
        "###### customer_type \n",
        "\n",
        "La mayoría de las reservas son individuales y cortas (transient), seguidas por transitorias asociadas a otras (transient-party), luego por reservas con contratos asociados (contract) y finalmente reservas asociadas a grupos (group). "
      ]
    },
    {
      "cell_type": "code",
      "execution_count": null,
      "metadata": {
        "id": "9RYnHpTMrXa8"
      },
      "outputs": [],
      "source": [
        "print(df['customer_type'].sort_values().value_counts())\n",
        "\n",
        "plt.pie(df['customer_type'].sort_values().value_counts(), \n",
        "        colors=['mediumturquoise', 'lightpink', 'plum', 'lightskyblue', 'gold'], \n",
        "        labels = df['customer_type'].sort_values().value_counts().index.tolist())\n",
        "plt.title('Cantidad de reservas por customer type')\n",
        "\n",
        "plt.show()"
      ]
    },
    {
      "cell_type": "markdown",
      "metadata": {
        "id": "e0npL96ckpyg"
      },
      "source": [
        "###### id\n",
        "\n",
        "La variable que identifica a las reservas es única, por lo tanto hay una sola repetición de cada valor, y cada reserva tiene un id no nulo. "
      ]
    },
    {
      "cell_type": "markdown",
      "metadata": {
        "id": "_qjJDjdBzJKc"
      },
      "source": [
        "###### distribution_channel\n",
        " Se observa que la mayoria son  TA (Travel Agents) o TO (Tour Operators), seguidos por Direct y Corporate y en menor medida por GDS y no definidos."
      ]
    },
    {
      "cell_type": "code",
      "execution_count": null,
      "metadata": {
        "id": "-Cpelv7mzZSp"
      },
      "outputs": [],
      "source": [
        "print(df['distribution_channel'].sort_values().value_counts())\n",
        "frecuencia = df['distribution_channel'].sort_values().value_counts().plot(kind = 'bar', width = 0.4, rot = 0, color=['mediumturquoise'],title=\"Gráfico de frecuencias de valores posibles de distribution_channel \", xlabel= 'distribution_channel',ylabel=\"Frecuencia\")"
      ]
    },
    {
      "cell_type": "markdown",
      "metadata": {
        "id": "Sc5VY42ozk4x"
      },
      "source": [
        "###### is_canceled\n",
        "Observamos que la frecuencia es casi idéntica entre las reservas que fueron canceladas(1) y las que no(0)."
      ]
    },
    {
      "cell_type": "code",
      "execution_count": null,
      "metadata": {
        "id": "Phl8Pebczm2a"
      },
      "outputs": [],
      "source": [
        "print(df['is_canceled'].sort_values().value_counts())\n",
        "frecuencia = df['is_canceled'].sort_values().value_counts().plot(kind = 'bar', width = 0.4, rot = 0, color=['mediumturquoise'],title=\"Gráfico de frecuencias de valores posibles de is_canceled \", xlabel= 'is_canceled',ylabel=\"Frecuencia\")"
      ]
    },
    {
      "cell_type": "markdown",
      "metadata": {
        "id": "qHbMv-dpznSA"
      },
      "source": [
        "###### is_repeated_guest\n",
        "\n",
        "Observamos que son más frecuentes los huéspedes nuevos(0) que los que ya habían estado en el hotel con anterioridad(1)."
      ]
    },
    {
      "cell_type": "code",
      "execution_count": null,
      "metadata": {
        "id": "2j0YBR8yzuhd"
      },
      "outputs": [],
      "source": [
        "print(df['is_repeated_guest'].sort_values().value_counts())\n",
        "frecuencia = df['is_repeated_guest'].sort_values().value_counts().plot(kind = 'bar', width = 0.4, rot = 0, color=['mediumturquoise'],title=\"Gráfico de frecuencias de valores posibles de is_repeated_guest \", xlabel= 'is_repeated_guest',ylabel=\"Frecuencia\")"
      ]
    },
    {
      "cell_type": "markdown",
      "metadata": {
        "id": "Upj4V65hzvHP"
      },
      "source": [
        "###### market_segment\n",
        "\n",
        "Observamos que el intermediario más elegido es Online TA, seguido por Offline TA/TO y Groups, con aproximadamente la mitad de la frecuncia del primero. Luego le siguen Direct, Corporate, Complementary y Aviation.\n",
        "Referencias:\n",
        "\n",
        "“TA” = “Travel Agents” \n",
        "“TO” = “Tour Operators”"
      ]
    },
    {
      "cell_type": "code",
      "execution_count": null,
      "metadata": {
        "id": "RuMG8fQiz1oJ"
      },
      "outputs": [],
      "source": [
        "print(df['market_segment'].sort_values().value_counts())\n",
        "frecuencia = df['market_segment'].sort_values().value_counts().plot(kind = 'bar', width = 0.4,figsize=(10, 5), rot = 0, color=['mediumturquoise'],title=\"Gráfico de frecuencias de valores posibles de market_segment \", xlabel= 'market_segment',ylabel=\"Frecuencia\")"
      ]
    },
    {
      "cell_type": "markdown",
      "metadata": {
        "id": "V9hESHnxz2tN"
      },
      "source": [
        "###### meal\n",
        "\n",
        "Observamos que, con amplia diferencia, el paquete más pedido es BB(cama y desayuno), seguido por HB(desayuno y otra comida),SC y Undefined (sin paquete), y por ultimo, FB (desayuno, almuerzo y cena)."
      ]
    },
    {
      "cell_type": "code",
      "execution_count": null,
      "metadata": {
        "id": "WtzTiO1Iz3Fq"
      },
      "outputs": [],
      "source": [
        "print(df['meal'].sort_values().value_counts())\n",
        "frecuencia = df['meal'].sort_values().value_counts().plot(kind = 'bar', width = 0.4, rot = 0, color=['mediumturquoise'],title=\"Gráfico de frecuencias de valores posibles de meal \", xlabel= 'meal',ylabel=\"Frecuencia\")"
      ]
    },
    {
      "cell_type": "markdown",
      "metadata": {
        "id": "zBwM7jvn7GpX"
      },
      "source": [
        "### Variables irrelevantes \n",
        "Para el análisis no vamos a considerar las siguientes columnas:\n",
        "* id - no aporta información relevante al análisis porque solo sirve para identificar las reservas. \n",
        "* reservation_status_date - no aporta información extra respecto de las variables de de fecha ya analizadas, por lo que no la consideramos relevante. \n",
        "* company - debido al alto porcentaje de datos faltantes (aproximadamente 94%) no es una variable que impacte en la predicción de cancelación de reservas, o bien el dataset con el que estamos trabajando es inválido. \n",
        "\n"
      ]
    },
    {
      "cell_type": "markdown",
      "metadata": {
        "id": "CS7PFKeP7KGf"
      },
      "source": [
        "### Análisis gráfico \n",
        "Analizaremos las distribuciones de las variables cuantitativas de nuestro dataset mediante el uso de histogramas.\n"
      ]
    },
    {
      "cell_type": "markdown",
      "metadata": {
        "id": "VtNnZjysQLip"
      },
      "source": [
        "###### lead_time"
      ]
    },
    {
      "cell_type": "code",
      "execution_count": null,
      "metadata": {
        "id": "sycU3s45bu2o"
      },
      "outputs": [],
      "source": [
        "\n",
        "fig, ax=plt.subplots(figsize=(10,7))\n",
        "ax = sns.histplot(df,x= 'lead_time', bins=30)\n",
        "plt.xlabel('Dias previos a la reserva',fontsize = 10)\n",
        "plt.ylabel('Frecuencia')\n",
        "plt.title('Distribucion de la variable lead_time')\n",
        "plt.show()"
      ]
    },
    {
      "cell_type": "markdown",
      "metadata": {
        "id": "S96MSIPwQZxI"
      },
      "source": [
        "###### arrival_date_year"
      ]
    },
    {
      "cell_type": "code",
      "execution_count": null,
      "metadata": {
        "id": "j_s4s2VcdGTL"
      },
      "outputs": [],
      "source": [
        "fig, ax=plt.subplots(figsize=(5,7))\n",
        "ax = sns.histplot(df,x= 'arrival_date_year', bins=12)\n",
        "ax.set(xticks=list(range(2015,2018)))\n",
        "plt.xlabel('Año de la reserva',fontsize = 10)\n",
        "plt.ylabel('Frecuencia')\n",
        "plt.title('Distribucion de la variable arrival_date_year')\n",
        "plt.show()"
      ]
    },
    {
      "cell_type": "markdown",
      "metadata": {
        "id": "Rnf87_K7RNvs"
      },
      "source": [
        "###### arrival_date_week_number"
      ]
    },
    {
      "cell_type": "code",
      "execution_count": null,
      "metadata": {
        "id": "sKqFEoQJljgp"
      },
      "outputs": [],
      "source": [
        "fig, ax=plt.subplots(figsize=(14,7))\n",
        "ax = sns.histplot(df,x= 'arrival_date_week_number', bins=30)\n",
        "ax.set(xticks=(range(54)))\n",
        "plt.xlabel('Numero de semana',fontsize = 10)\n",
        "plt.ylabel('Frecuencia')\n",
        "plt.title('Distribucion de la variable arrival_date_week_number')\n",
        "plt.show()"
      ]
    },
    {
      "cell_type": "markdown",
      "metadata": {
        "id": "q8vxmE5ORjCz"
      },
      "source": [
        "###### arrival_date_day_of_month"
      ]
    },
    {
      "cell_type": "code",
      "execution_count": null,
      "metadata": {
        "id": "z0djxc4M8RTQ"
      },
      "outputs": [],
      "source": [
        "fig, ax=plt.subplots(figsize=(10,5))\n",
        "ax = sns.histplot(df,x= 'arrival_date_day_of_month', bins=30)\n",
        "ax.set(xticks=(range(0,32)))\n",
        "plt.xlabel('Dia del mes')\n",
        "plt.ylabel('Frecuencia')\n",
        "plt.title('Distribucion de la variable arrival_date_day_of_month')\n",
        "plt.show()"
      ]
    },
    {
      "cell_type": "markdown",
      "metadata": {
        "id": "zEt0vwELRptH"
      },
      "source": [
        "###### stays_in_weekend_nights"
      ]
    },
    {
      "cell_type": "code",
      "execution_count": null,
      "metadata": {
        "id": "wjv-rFAPMm1q"
      },
      "outputs": [],
      "source": [
        "fig, ax=plt.subplots(figsize=(8,8))\n",
        "ax = sns.histplot(df,x= 'stays_in_weekend_nights', bins=32)\n",
        "ax.set(xticks=(range(0,17)))\n",
        "plt.xlabel('Noches de fin de semana reservadas ')\n",
        "plt.ylabel('Frecuencia')\n",
        "plt.title('Distribucion de la variable stays_in_weekend_nights')\n",
        "plt.show()"
      ]
    },
    {
      "cell_type": "markdown",
      "metadata": {
        "id": "1RndyFJ_RxhJ"
      },
      "source": [
        "###### stays_in_week_nights"
      ]
    },
    {
      "cell_type": "code",
      "execution_count": null,
      "metadata": {
        "id": "2BvO84JAcH0_"
      },
      "outputs": [],
      "source": [
        "fig, ax=plt.subplots(figsize=(10,5))\n",
        "ax = sns.histplot(df,x= 'stays_in_week_nights', bins=40)\n",
        "ax.set(xticks=(range(0,41)))\n",
        "plt.xlabel('Noches de la semana reservadas ')\n",
        "plt.ylabel('Frecuencia')\n",
        "plt.title('Distribucion de la variable stays_in_week_nights')\n",
        "plt.show()"
      ]
    },
    {
      "cell_type": "markdown",
      "metadata": {
        "id": "6vMMI9rnR1mi"
      },
      "source": [
        "###### Adults"
      ]
    },
    {
      "cell_type": "code",
      "execution_count": null,
      "metadata": {
        "id": "ImrlJSIvMviq"
      },
      "outputs": [],
      "source": [
        "fig, ax=plt.subplots(figsize=(10,5))\n",
        "ax = sns.histplot(df,x= 'adults', bins=55)\n",
        "ax.set(xticks=(range(0,56,2)))\n",
        "plt.xlabel('Cantidad de adultos por reserva')\n",
        "plt.ylabel('Frecuencia')\n",
        "plt.title('Distribucion de la variable adults')\n",
        "plt.show()"
      ]
    },
    {
      "cell_type": "markdown",
      "metadata": {
        "id": "6kxNdDp8R8lb"
      },
      "source": [
        "###### children\n"
      ]
    },
    {
      "cell_type": "code",
      "execution_count": null,
      "metadata": {
        "id": "iDvxTKjbd75Q"
      },
      "outputs": [],
      "source": [
        "fig, ax=plt.subplots(figsize=(10,5))\n",
        "ax = sns.histplot(df,x= 'children', bins=10)\n",
        "ax.set(xticks=(range(0,11)))\n",
        "plt.xlabel('Cantidad de chicos por reserva')\n",
        "plt.ylabel('Frecuencia')\n",
        "plt.title('Distribucion de la variable children')\n",
        "plt.show()"
      ]
    },
    {
      "cell_type": "markdown",
      "metadata": {
        "id": "6q0NfZWGSTUm"
      },
      "source": [
        "###### babies"
      ]
    },
    {
      "cell_type": "code",
      "execution_count": null,
      "metadata": {
        "id": "1bTE-lc4eIY-"
      },
      "outputs": [],
      "source": [
        "fig, ax=plt.subplots(figsize=(10,5))\n",
        "ax = sns.histplot(df,x= 'babies', bins=9)\n",
        "ax.set(xticks=(range(0,10)))\n",
        "plt.xlabel('Cantidad de bebes por reserva')\n",
        "plt.ylabel('Frecuencia')\n",
        "plt.title('Distribucion de la variable babies')\n",
        "plt.show()"
      ]
    },
    {
      "cell_type": "markdown",
      "metadata": {
        "id": "AdJMoe1ISVc5"
      },
      "source": [
        "###### previous_cancellations"
      ]
    },
    {
      "cell_type": "code",
      "execution_count": null,
      "metadata": {
        "id": "HE_en9MbR7jc"
      },
      "outputs": [],
      "source": [
        "fig, ax=plt.subplots(figsize=(10,5))\n",
        "ax = sns.histplot(df,x= 'previous_cancellations', bins=30)\n",
        "ax.set(xticks=(range(0,31)))\n",
        "plt.xlabel('Cantidad de dias previos en que se cancela una reserva')\n",
        "plt.ylabel('Frecuencia')\n",
        "plt.title('Distribucion de la variable previous_cancellations')\n",
        "plt.show()\n"
      ]
    },
    {
      "cell_type": "markdown",
      "metadata": {
        "id": "j2mZfQ4IScpw"
      },
      "source": [
        "###### previous_bookings_not_canceled"
      ]
    },
    {
      "cell_type": "code",
      "execution_count": null,
      "metadata": {
        "id": "hee2zMPme17w"
      },
      "outputs": [],
      "source": [
        "fig, ax=plt.subplots(figsize=(10,5))\n",
        "ax = sns.histplot(df,x= 'previous_bookings_not_canceled', bins=10)\n",
        "plt.xlabel('Cantidad de reservas cumplidas por cliente')\n",
        "plt.ylabel('Frecuencia')\n",
        "plt.title('Distribucion de la variable previous_bookings_not_canceled')\n",
        "plt.show()"
      ]
    },
    {
      "cell_type": "markdown",
      "metadata": {
        "id": "sE-VvSoAS9ZP"
      },
      "source": [
        "###### booking_changes"
      ]
    },
    {
      "cell_type": "code",
      "execution_count": null,
      "metadata": {
        "id": "WQgon6k8h0NS"
      },
      "outputs": [],
      "source": [
        "\n",
        "fig, ax=plt.subplots(figsize=(10,5))\n",
        "ax = sns.histplot(df,x= 'booking_changes', bins=17)\n",
        "ax.set(xticks=list(range(0,18)))\n",
        "plt.xlabel('Cantidad de cambios realizados por reserva')\n",
        "plt.ylabel('Frecuencia')\n",
        "plt.title('Distribucion de la variable booking_changes')\n",
        "plt.show()"
      ]
    },
    {
      "cell_type": "markdown",
      "metadata": {
        "id": "CIH_6lKhTC5r"
      },
      "source": [
        "###### days_in_waiting_list"
      ]
    },
    {
      "cell_type": "code",
      "execution_count": null,
      "metadata": {
        "id": "FCzjwzXhiWRN"
      },
      "outputs": [],
      "source": [
        "fig, ax=plt.subplots(figsize=(10,5))\n",
        "ax = sns.histplot(df,x= 'days_in_waiting_list', bins=15)\n",
        "ax.set(xticks=list(range(0,400,50)))\n",
        "plt.xlabel('Cantidad de dias en lista de espera')\n",
        "plt.ylabel('Frecuencia')\n",
        "plt.title('Distribucion de la variable days_in_waiting_list')\n",
        "plt.show()"
      ]
    },
    {
      "cell_type": "markdown",
      "metadata": {
        "id": "1rvwu4CiTLQv"
      },
      "source": [
        "###### adr"
      ]
    },
    {
      "cell_type": "code",
      "execution_count": null,
      "metadata": {
        "id": "hOeomGiFjLuf"
      },
      "outputs": [],
      "source": [
        "fig, ax=plt.subplots(figsize=(10,5))\n",
        "ax = sns.histplot(df,x= 'adr', bins=50)\n",
        "ax.set(xticks=list(range(0,520,50)))\n",
        "plt.xlabel('Costo promedio de una habitacion')\n",
        "plt.ylabel('Frecuencia')\n",
        "plt.title('Distribucion de la variable adr')\n",
        "plt.show()"
      ]
    },
    {
      "cell_type": "markdown",
      "metadata": {
        "id": "f0cj1w9dTXS_"
      },
      "source": [
        "###### required_car_parking_spaces"
      ]
    },
    {
      "cell_type": "code",
      "execution_count": null,
      "metadata": {
        "id": "5kvYmzkYkA3S"
      },
      "outputs": [],
      "source": [
        "print(df['required_car_parking_spaces'].min())\n",
        "print(df['required_car_parking_spaces'].max())\n",
        "fig, ax=plt.subplots(figsize=(10,5))\n",
        "ax = sns.histplot(df,x= 'required_car_parking_spaces', bins=8)\n",
        "ax.set(xticks=list(range(0,10)))\n",
        "plt.xlabel('Cantidad de espacios necesarios para estacionar')\n",
        "plt.ylabel('Frecuencia')\n",
        "plt.title('Distribucion de la variable required_car_parking_spaces')\n",
        "plt.show()"
      ]
    },
    {
      "cell_type": "markdown",
      "metadata": {
        "id": "zKmxxiSBU-jj"
      },
      "source": [
        "###### total_of_special_requests"
      ]
    },
    {
      "cell_type": "code",
      "execution_count": null,
      "metadata": {
        "id": "IMII4I3ak10O"
      },
      "outputs": [],
      "source": [
        "fig, ax=plt.subplots(figsize=(10,5))\n",
        "ax = sns.histplot(df,x= 'total_of_special_requests', bins=5)\n",
        "plt.xlabel('Cantidad de solicitudes especiales por cliente')\n",
        "plt.ylabel('Frecuencia')\n",
        "plt.title('Distribucion de la variable total_of_special_requests')\n",
        "plt.show()"
      ]
    },
    {
      "cell_type": "markdown",
      "metadata": {
        "id": "kHNvkKks7NgU"
      },
      "source": [
        "### Correlaciones \n",
        "\n",
        "A continuación estudiamos algunas correlaciones existentes entre las variables. \n"
      ]
    },
    {
      "cell_type": "code",
      "execution_count": null,
      "metadata": {
        "id": "6t-MX84zwUyZ"
      },
      "outputs": [],
      "source": [
        "matriz_correlacion=df.corr()\n",
        "matriz_correlacion"
      ]
    },
    {
      "cell_type": "markdown",
      "metadata": {
        "id": "scNiX4wVvv16"
      },
      "source": [
        "## Visualización de los datos\n",
        "\n",
        "A continuación trabajaremos con un heatmap para entender mejor la relación entre las variables y el target. \n",
        "\n"
      ]
    },
    {
      "cell_type": "code",
      "execution_count": null,
      "metadata": {
        "id": "qTRfqzhBwcuo"
      },
      "outputs": [],
      "source": [
        "plt.figure(figsize = (16,9))\n",
        "ax = plt.axes()\n",
        "sns.heatmap(matriz_correlacion, annot=True, cmap='coolwarm')\n",
        "ax.set_title('Gráfico de la matriz de correlación', fontsize =20)\n",
        "plt.show()\n"
      ]
    },
    {
      "cell_type": "markdown",
      "metadata": {
        "id": "9vmXSyQEUC5s"
      },
      "source": [
        "Entre las variables cuantitativas, vemos que las que mayor correlación mantienen con el target (is_canceled) son lead_time, total_of_special_requests y required_car_parking_spaces. "
      ]
    },
    {
      "cell_type": "code",
      "execution_count": null,
      "metadata": {
        "id": "hKYuIF-RGN1e"
      },
      "outputs": [],
      "source": [
        "df2 = df[['lead_time',\n",
        "          'arrival_date_year',\n",
        "          'arrival_date_week_number',\n",
        "          'stays_in_weekend_nights',\n",
        "          'stays_in_week_nights',\n",
        "          'children',\n",
        "          'previous_bookings_not_canceled',\n",
        "          'agent',\n",
        "          'company',\n",
        "          'adr',\n",
        "          'is_canceled']] \n",
        "df2"
      ]
    },
    {
      "cell_type": "code",
      "execution_count": null,
      "metadata": {
        "id": "Ww0ojA1qUOFD"
      },
      "outputs": [],
      "source": [
        "\n",
        "plt.figure(figsize = (21,9))\n",
        "sns.pairplot(df2,vars=df2.columns[:-1],hue='is_canceled',corner=True)\n",
        "plt.show()\n"
      ]
    },
    {
      "cell_type": "markdown",
      "metadata": {
        "id": "ZZ0MP0jE7PIx"
      },
      "source": [
        "### Relación de las variables con el target \n",
        "\n",
        "Estudiaremos la relación entre las variables analizadas y el target del análisis, es decir, is_canceled. \n",
        "\n",
        "Anteriormente vimos que la variable cualitativa con mayor relación con el target es lead_time, seguida en menor medida por total_of_special_requests y required_car_parking_spaces. "
      ]
    },
    {
      "cell_type": "code",
      "execution_count": null,
      "metadata": {
        "id": "_eew2HCmzShL"
      },
      "outputs": [],
      "source": [
        "df.plot.scatter(x='lead_time', y='is_canceled', s=10).set(title=\"Dispersograma is_canceled y lead_time\",xlabel='lead_time',ylabel='is_canceled') "
      ]
    },
    {
      "cell_type": "markdown",
      "metadata": {
        "id": "48N9od80hx24"
      },
      "source": [
        "Vemos que si bien se encuentran parejas las cancelaciones y no cancelaciones para los valores de lead_time entre 0 y 400 aproximadamente, a partir de este último valor en adelante la mayoría de las reservas fueron canceladas. \n",
        "Esto nos permite intuir que cuanto mayor sea la anticipación con la que se efectúa la reserva, mayor es la probabilidad de que esta sea cancelada. \n",
        "De 550 aproximadamente en adelante, todas las reservas efectuadas fueron canceladas. "
      ]
    },
    {
      "cell_type": "markdown",
      "metadata": {
        "id": "eGWWJQ57v0vQ"
      },
      "source": [
        "## Datos Faltantes \n",
        "A continuacion analizaremos la presencia de datos faltantes para cada columna en el dataset. \n",
        "\n"
      ]
    },
    {
      "cell_type": "code",
      "execution_count": null,
      "metadata": {
        "id": "umnF1x12v8Pf"
      },
      "outputs": [],
      "source": [
        "cantidad = df.isnull().sum()\n",
        "porcentaje = df.isnull().sum() * 100 / len(df.index)\n",
        "\n",
        "df_faltantes = pd.DataFrame({'Cantidad faltantes' : cantidad, 'Porcentaje faltantes' : porcentaje})\n",
        "df_faltantes_filtrado = df_faltantes[df_faltantes['Cantidad faltantes'] > 0]\n",
        "df_faltantes_filtrado.head()"
      ]
    },
    {
      "cell_type": "markdown",
      "metadata": {
        "id": "4dyOD1Ej7cds"
      },
      "source": [
        "Observamos que hay 4 columnas con datos faltantes: \n",
        "* la cantidad de niños, con un 0.06% de faltantes respecto al largo total del dataset\n",
        "* el país, con un 0.36% de faltantes respecto al largo total del dataset\n",
        "* el agente, con un 12.74% de faltantes respecto al largo total del dataset\n",
        "* la compañía, con un 94.91% de faltantes respecto al largo total del dataset\n",
        "\n",
        "El resto tienen un 0% de faltantes, por lo que decidimos filtrarlos en la tabla.\n",
        "\n",
        "A continuación graficamos la totalidad de los campos con sus respectivas proporciones de datos faltantes:"
      ]
    },
    {
      "cell_type": "code",
      "execution_count": null,
      "metadata": {
        "id": "0cZQOy2C9F4b"
      },
      "outputs": [],
      "source": [
        "grafico_faltantes = sns.displot(\n",
        "    data=df.isnull().melt(value_name=\"Faltantes\"), \n",
        "    palette=['mediumturquoise', 'plum'],\n",
        "    y=\"variable\",\n",
        "    hue=\"Faltantes\",\n",
        "    multiple=\"fill\",\n",
        "    height=7,\n",
        "    aspect=1.5\n",
        ")\n",
        "\n",
        "grafico_faltantes.set_axis_labels(\"Proporción\", \"Variable\")\n",
        "plt.show()"
      ]
    },
    {
      "cell_type": "markdown",
      "metadata": {
        "id": "WwOPMqzjPesM"
      },
      "source": [
        "Analizamos cómo proceder para cada caso: \n"
      ]
    },
    {
      "cell_type": "markdown",
      "metadata": {
        "id": "eO5T8zuDPqfp"
      },
      "source": [
        "\n",
        "###### country y children\n",
        "\n",
        "Debido al bajo porcentaje de datos faltantes (0.36% y 0.06%) y sumado en el caso del país a la gran diversidad de valores posibles para esta variable, decidimos anular los registros repetidos. "
      ]
    },
    {
      "cell_type": "code",
      "execution_count": null,
      "metadata": {
        "id": "JuJfmgirQSFv"
      },
      "outputs": [],
      "source": [
        "df['country'].unique()"
      ]
    },
    {
      "cell_type": "markdown",
      "metadata": {
        "id": "sBb_rwWWQgX1"
      },
      "source": [
        "###### agent y company \n",
        "\n",
        "La variable company, que tiene un alto porcentaje de datos faltantes (más del 95%), nos resulta irrelevante para este problema, porque cualquier información que pueda proporcionar no debe afectar al objetivo de predecir si una reserva será cancelada (o bien, si efectivamente lo afecta, nuestro dataset no será útil porque no proporciona información suficiente de esta variable para analizar). Por lo tanto, la omitimos en el análisis. \n",
        "Lo mismo ocurre con la variable agent, que si bien tiene un porcentaje relativamente bajo de datos faltantes (aproximadamente 12%), consideramos que tampoco afectará nuestro análisis. \n"
      ]
    },
    {
      "cell_type": "code",
      "execution_count": null,
      "metadata": {
        "id": "odgpxUTmRibE"
      },
      "outputs": [],
      "source": [
        "df_sin_faltantes = df[['hotel', 'lead_time', 'arrival_date_year', 'arrival_date_month',\n",
        "       'arrival_date_week_number', 'arrival_date_day_of_month',\n",
        "       'stays_in_weekend_nights', 'stays_in_week_nights', 'adults', 'children',\n",
        "       'babies', 'meal', 'country', 'market_segment', 'distribution_channel',\n",
        "       'is_repeated_guest', 'previous_cancellations',\n",
        "       'previous_bookings_not_canceled', 'reserved_room_type',\n",
        "       'assigned_room_type', 'booking_changes', 'deposit_type', 'days_in_waiting_list', 'customer_type', 'adr',\n",
        "       'required_car_parking_spaces', 'total_of_special_requests']].dropna()"
      ]
    },
    {
      "cell_type": "markdown",
      "metadata": {
        "id": "CI524HiaSZay"
      },
      "source": [
        "Habiendo descartado el porcentaje de las filas con datos de país y niños faltantes, y habiendo anulado las columnas agent y company (datos irrelevantes) tenemos disponibilidad total de los datos sin valores nulos. "
      ]
    },
    {
      "cell_type": "markdown",
      "metadata": {
        "id": "hZwUknTxv3jR"
      },
      "source": [
        "## Valores atípicos \n",
        "\n",
        "\n",
        "Intentaremos detectar valores atípicos en los datos en forma univariada y multivariada.\n",
        "Para ello estudiaremos cómo se encuentran distribuidos los datos y trataremos de encontrar los que se alejan de la distribución esperada. \n",
        "\n"
      ]
    },
    {
      "cell_type": "code",
      "execution_count": null,
      "metadata": {
        "id": "qYDo1HdOxiUm"
      },
      "outputs": [],
      "source": [
        "df_sin_faltantes.agg(['min','max'])"
      ]
    },
    {
      "cell_type": "code",
      "execution_count": null,
      "metadata": {
        "id": "5ckfsavszEpA"
      },
      "outputs": [],
      "source": [
        "df_sin_faltantes.quantile(np.arange(0.00,1.01,0.01))"
      ]
    },
    {
      "cell_type": "markdown",
      "metadata": {
        "id": "7hIx7RmvzhHU"
      },
      "source": [
        "A simple vista, en la tabla anterior vemos que hay un valor de adr (average daily rate) negativo (-6.38) y uno nulo. Estos valores no son los esperados para el costo de una habitación. \n",
        "\n",
        "Por otro lado, vemos que hay varias filas donde las variables stays_in_weekend_nights y stays_in_week_nights son ambas nulas. Es decir, que hubo reservas de 0 noches. Estos valores no parecen ser los esperados. \n",
        "\n",
        "Las variables previous_cancellations, previous_bookings_not_canceled, booking_changes, y required_parking_spaces tienen una fila con valores muy superiores a las anteriores (26, 70, 17 y 8 respectivamente). \n",
        "\n",
        "Diagramaremos con boxplot para detectar los outliers. "
      ]
    },
    {
      "cell_type": "code",
      "execution_count": null,
      "metadata": {
        "id": "27bqxG5y09OX"
      },
      "outputs": [],
      "source": [
        "df_sin_faltantes[['stays_in_weekend_nights', 'stays_in_week_nights']].plot.box(title=\"Noches de estadía\")"
      ]
    },
    {
      "cell_type": "code",
      "execution_count": null,
      "metadata": {
        "id": "aTAZdirRLrvr"
      },
      "outputs": [],
      "source": [
        "max_stays_in_weekend = df_sin_faltantes[df_sin_faltantes['stays_in_weekend_nights'] > 5].index\n",
        "print(max_stays_in_weekend)\n"
      ]
    },
    {
      "cell_type": "code",
      "execution_count": null,
      "metadata": {
        "id": "dIHV_b8m17Dp"
      },
      "outputs": [],
      "source": [
        "df_sin_faltantes[['adr']].plot.box(title=\"Average daily rate\")"
      ]
    },
    {
      "cell_type": "code",
      "execution_count": null,
      "metadata": {
        "id": "3IT6NdXs21tZ"
      },
      "outputs": [],
      "source": [
        "max_adr = df_sin_faltantes[df_sin_faltantes['adr'] > 200].index\n",
        "print(max_adr)"
      ]
    },
    {
      "cell_type": "code",
      "execution_count": null,
      "metadata": {
        "id": "ENNoEgKU2GIF"
      },
      "outputs": [],
      "source": [
        "df_sin_faltantes[['previous_cancellations', 'previous_bookings_not_canceled']].plot.box(title=\"Reservas anteriores\") "
      ]
    },
    {
      "cell_type": "code",
      "execution_count": null,
      "metadata": {
        "id": "A7fEMVLEPHhj"
      },
      "outputs": [],
      "source": [
        "max_previous_cancellations = df_sin_faltantes[df_sin_faltantes['previous_cancellations'] > 0].index\n",
        "print(max_previous_cancellations)\n"
      ]
    },
    {
      "cell_type": "code",
      "execution_count": null,
      "metadata": {
        "id": "zXc73vxy2Rpk"
      },
      "outputs": [],
      "source": [
        "df[['booking_changes']].plot.box(title=\"Cambios de reserva\")"
      ]
    },
    {
      "cell_type": "code",
      "execution_count": null,
      "metadata": {
        "id": "Vy5iHHAAPXYZ"
      },
      "outputs": [],
      "source": [
        "max_booking_changes = df_sin_faltantes[df_sin_faltantes['booking_changes'] > 2].index  \n",
        "print(max_booking_changes)"
      ]
    },
    {
      "cell_type": "code",
      "execution_count": null,
      "metadata": {
        "id": "f9E6QS8u2cuI"
      },
      "outputs": [],
      "source": [
        "df_sin_faltantes[['required_car_parking_spaces']].plot.box(title=\"Plazas de estacionamiento requeridas\")"
      ]
    },
    {
      "cell_type": "code",
      "execution_count": null,
      "metadata": {
        "id": "2Tx90qbZPgsM"
      },
      "outputs": [],
      "source": [
        "max_required_car_parking_spaces = df_sin_faltantes[df_sin_faltantes['required_car_parking_spaces'] > 2].index\n",
        "print(max_required_car_parking_spaces)"
      ]
    },
    {
      "cell_type": "markdown",
      "metadata": {
        "id": "ahpUgyESxhdl"
      },
      "source": [
        "Detectamos algunos casos con valores no esperados (reservas y cancelaciones anteriores con valores muy altos, entre 10 y 70 por cliente), cambios de reserva mayores a 2, y el uso de 8 plazas de estacionamiento). Para este último caso, podríamos optar por eliminar la fila atípica porque es un único valor. En los demás casos, como se trata de un volumen bastante importante de datos con valor atípico, consideramos que borrarlos no es lo mejor ya que estaríamos eliminando información, por lo que deberemos tener en cuenta estos valores durante el análisis."
      ]
    }
  ],
  "metadata": {
    "colab": {
      "toc_visible": true,
      "provenance": []
    },
    "kernelspec": {
      "display_name": "Python 3",
      "name": "python3"
    },
    "language_info": {
      "name": "python"
    }
  },
  "nbformat": 4,
  "nbformat_minor": 0
}